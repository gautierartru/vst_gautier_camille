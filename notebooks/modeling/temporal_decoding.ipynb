{
 "cells": [
  {
   "cell_type": "code",
   "execution_count": 32,
   "metadata": {},
   "outputs": [],
   "source": [
    "%matplotlib qt\n",
    "import sys\n",
    "import mne\n",
    "import os\n",
    "import numpy as np\n",
    "import pandas as pd\n",
    "import seaborn as sns\n",
    "import matplotlib.pyplot as plt\n",
    "\n",
    "sys.path.append(r\"C:\\Users\\gautier\\OneDrive - CentraleSupelec\\3A - Master CNN\\Supervised Project\\pipeline project v0\\scripts\")\n",
    "sys.path.append(r\"C:\\Users\\gautier\\OneDrive - CentraleSupelec\\3A - Master CNN\\Supervised Project\\pipeline project v0\\config\")\n",
    "import eeg_preprocessing as preprocessing\n",
    "import eeg_decoding as decoding\n",
    "import vst_config as config"
   ]
  },
  {
   "cell_type": "markdown",
   "metadata": {},
   "source": [
    "# Decoding the height of the room on frontocentral channels"
   ]
  },
  {
   "cell_type": "code",
   "execution_count": 43,
   "metadata": {},
   "outputs": [],
   "source": [
    "class_1 = \"Normal Height\"\n",
    "class_2 = \"High Height\"\n",
    "conditions_normal_room = [\"LNS\"]\n",
    "conditions_high_room = [\"LHS\"]\n",
    "pick_type = \"frontocentral\""
   ]
  },
  {
   "cell_type": "markdown",
   "metadata": {},
   "source": [
    "## Decoding with start_prod epochs"
   ]
  },
  {
   "cell_type": "code",
   "execution_count": 44,
   "metadata": {},
   "outputs": [],
   "source": [
    "epochs_type = \"start_prod\"\n",
    "baseline_duration = 0.1\n",
    "epoch_duration = 1"
   ]
  },
  {
   "cell_type": "markdown",
   "metadata": {},
   "source": [
    "Load epochs"
   ]
  },
  {
   "cell_type": "code",
   "execution_count": 45,
   "metadata": {},
   "outputs": [
    {
     "name": "stdout",
     "output_type": "stream",
     "text": [
      "Not setting metadata\n",
      "156 matching events found\n",
      "No baseline correction applied\n"
     ]
    }
   ],
   "source": [
    "decoding_epochs, y = decoding.get_eeg_epochs_and_labels_for_binary_decoding(\n",
    "    conditions_class_1 = conditions_normal_room, \n",
    "    conditions_class_2 = conditions_high_room, \n",
    "    epochs_type = epochs_type, \n",
    "    pick_type = pick_type, \n",
    "    baseline_duration = baseline_duration, \n",
    "    epoch_duration = epoch_duration\n",
    "    )"
   ]
  },
  {
   "cell_type": "markdown",
   "metadata": {},
   "source": [
    "Compute decoding scores across time"
   ]
  },
  {
   "cell_type": "code",
   "execution_count": 46,
   "metadata": {},
   "outputs": [
    {
     "name": "stderr",
     "output_type": "stream",
     "text": [
      "[Parallel(n_jobs=8)]: Using backend LokyBackend with 8 concurrent workers.\n",
      "[Parallel(n_jobs=8)]: Done   2 out of   4 | elapsed:    2.6s remaining:    2.6s\n",
      "[Parallel(n_jobs=8)]: Done   4 out of   4 | elapsed:    2.6s finished\n"
     ]
    }
   ],
   "source": [
    "from sklearn.utils import shuffle\n",
    "\n",
    "X = decoding_epochs.get_data(copy=False, verbose=False)\n",
    "X,y = shuffle(X,y)\n",
    "scores = decoding.compute_decoding_scores(eeg_data=X, labels=y, decoder=\"logistic\", cv=4, ncores=8)"
   ]
  },
  {
   "cell_type": "markdown",
   "metadata": {},
   "source": [
    "Plot results"
   ]
  },
  {
   "cell_type": "code",
   "execution_count": 47,
   "metadata": {},
   "outputs": [],
   "source": [
    "decoding.plot_decoding_scores(\n",
    "    decoding_scores=scores,\n",
    "    epochs=decoding_epochs,\n",
    "    end_stim=0,\n",
    "    plot_title=f\"Sensor space decoding on {pick_type} channels on {epochs_type} epochs ({class_1} vs. {class_2} height)\", \n",
    "    plotting_theme=\"ticks\"\n",
    ")\n",
    "\n",
    "# Save the plot\n",
    "result_class_folder = f\"{config.work_dir}/results/{class_1}_vs_{class_2}\"\n",
    "os.makedirs(result_class_folder, exist_ok=True)\n",
    "plt.savefig(fname=result_class_folder+f\"/{pick_type}_{epochs_type}_{baseline_duration}_{epoch_duration}.png\", dpi=200, facecolor=\"white\", transparent=False)"
   ]
  },
  {
   "cell_type": "markdown",
   "metadata": {},
   "source": [
    "## Decoding with go_signal epochs"
   ]
  },
  {
   "cell_type": "code",
   "execution_count": 48,
   "metadata": {},
   "outputs": [],
   "source": [
    "epochs_type = \"go_signal\"\n",
    "baseline_duration = 0.1\n",
    "epoch_duration = 0.8"
   ]
  },
  {
   "cell_type": "markdown",
   "metadata": {},
   "source": [
    "Load epochs"
   ]
  },
  {
   "cell_type": "code",
   "execution_count": 49,
   "metadata": {},
   "outputs": [
    {
     "name": "stdout",
     "output_type": "stream",
     "text": [
      "Not setting metadata\n",
      "156 matching events found\n",
      "No baseline correction applied\n"
     ]
    }
   ],
   "source": [
    "decoding_epochs, y = decoding.get_eeg_epochs_and_labels_for_binary_decoding(\n",
    "    conditions_class_1 = conditions_normal_room, \n",
    "    conditions_class_2 = conditions_high_room, \n",
    "    epochs_type = epochs_type, \n",
    "    pick_type = pick_type, \n",
    "    baseline_duration = baseline_duration, \n",
    "    epoch_duration = epoch_duration\n",
    "    )"
   ]
  },
  {
   "cell_type": "markdown",
   "metadata": {},
   "source": [
    "Compute decoding scores across time"
   ]
  },
  {
   "cell_type": "code",
   "execution_count": 50,
   "metadata": {},
   "outputs": [
    {
     "name": "stderr",
     "output_type": "stream",
     "text": [
      "[Parallel(n_jobs=8)]: Using backend LokyBackend with 8 concurrent workers.\n",
      "[Parallel(n_jobs=8)]: Done   2 out of   4 | elapsed:    1.7s remaining:    1.7s\n",
      "[Parallel(n_jobs=8)]: Done   4 out of   4 | elapsed:    1.7s finished\n"
     ]
    }
   ],
   "source": [
    "from sklearn.utils import shuffle\n",
    "\n",
    "X = decoding_epochs.get_data(copy=False, verbose=False)\n",
    "X,y = shuffle(X,y)\n",
    "scores = decoding.compute_decoding_scores(eeg_data=X, labels=y, decoder=\"logistic\", cv=4, ncores=8)"
   ]
  },
  {
   "cell_type": "markdown",
   "metadata": {},
   "source": [
    "Plot results"
   ]
  },
  {
   "cell_type": "code",
   "execution_count": 51,
   "metadata": {},
   "outputs": [],
   "source": [
    "decoding.plot_decoding_scores(\n",
    "    decoding_scores=scores,\n",
    "    epochs=decoding_epochs,\n",
    "    end_stim=0,\n",
    "    plot_title=f\"Sensor space decoding on {pick_type} channels on {epochs_type} epochs ({class_1} vs. {class_2} height)\", \n",
    "    plotting_theme=\"ticks\"\n",
    ")\n",
    "\n",
    "# Save the plot\n",
    "result_class_folder = f\"{config.work_dir}/results/{class_1}_vs_{class_2}\"\n",
    "os.makedirs(result_class_folder, exist_ok=True)\n",
    "plt.savefig(fname=result_class_folder+f\"/{pick_type}_{epochs_type}_{baseline_duration}_{epoch_duration}.png\", dpi=200, facecolor=\"white\", transparent=False)"
   ]
  },
  {
   "cell_type": "markdown",
   "metadata": {},
   "source": [
    "# Decoding the size of the room on frontocentral channels"
   ]
  },
  {
   "cell_type": "code",
   "execution_count": null,
   "metadata": {},
   "outputs": [],
   "source": [
    "class_1 = \"Small Size\"\n",
    "class_2 = \"Large Size\"\n",
    "conditions_normal_room = [\"SNS\", \"SNL\", \"LNS\", \"LNL\"]\n",
    "conditions_high_room = [\"SHS\", \"SHL\", \"LHS\", \"LHL\"]\n",
    "pick_type = \"frontocentral\""
   ]
  },
  {
   "cell_type": "markdown",
   "metadata": {},
   "source": [
    "## Decoding with start_prod epochs"
   ]
  },
  {
   "cell_type": "code",
   "execution_count": null,
   "metadata": {},
   "outputs": [],
   "source": [
    "epochs_type = \"start_prod\"\n",
    "baseline_duration = 0.1\n",
    "epoch_duration = 1"
   ]
  },
  {
   "cell_type": "markdown",
   "metadata": {},
   "source": [
    "Load epochs"
   ]
  },
  {
   "cell_type": "code",
   "execution_count": null,
   "metadata": {},
   "outputs": [
    {
     "name": "stdout",
     "output_type": "stream",
     "text": [
      "Not setting metadata\n",
      "727 matching events found\n",
      "No baseline correction applied\n"
     ]
    }
   ],
   "source": [
    "decoding_epochs, y = decoding.get_eeg_epochs_and_labels_for_binary_decoding(\n",
    "    conditions_class_1 = conditions_normal_room, \n",
    "    conditions_class_2 = conditions_high_room, \n",
    "    epochs_type = epochs_type, \n",
    "    pick_type = pick_type, \n",
    "    baseline_duration = baseline_duration, \n",
    "    epoch_duration = epoch_duration\n",
    "    )"
   ]
  },
  {
   "cell_type": "markdown",
   "metadata": {},
   "source": [
    "Compute decoding scores across time"
   ]
  },
  {
   "cell_type": "code",
   "execution_count": null,
   "metadata": {},
   "outputs": [
    {
     "name": "stderr",
     "output_type": "stream",
     "text": [
      "[Parallel(n_jobs=8)]: Using backend LokyBackend with 8 concurrent workers.\n",
      "[Parallel(n_jobs=8)]: Done   2 out of   4 | elapsed:    5.8s remaining:    5.8s\n",
      "[Parallel(n_jobs=8)]: Done   4 out of   4 | elapsed:    5.8s finished\n"
     ]
    }
   ],
   "source": [
    "from sklearn.utils import shuffle\n",
    "\n",
    "X = decoding_epochs.get_data(copy=False, verbose=False)\n",
    "X,y = shuffle(X,y)\n",
    "scores = decoding.compute_decoding_scores(eeg_data=X, labels=y, decoder=\"logistic\", cv=4, ncores=8)"
   ]
  },
  {
   "cell_type": "markdown",
   "metadata": {},
   "source": [
    "Plot results"
   ]
  },
  {
   "cell_type": "code",
   "execution_count": null,
   "metadata": {},
   "outputs": [],
   "source": [
    "decoding.plot_decoding_scores(\n",
    "    decoding_scores=scores,\n",
    "    epochs=decoding_epochs,\n",
    "    end_stim=0,\n",
    "    plot_title=f\"Sensor space decoding on {pick_type} channels on {epochs_type} epochs ({class_1} vs. {class_2} height)\", \n",
    "    plotting_theme=\"ticks\"\n",
    ")\n",
    "\n",
    "# Save the plot\n",
    "result_class_folder = f\"{config.work_dir}/results/{class_1}_vs_{class_2}\"\n",
    "os.makedirs(result_class_folder, exist_ok=True)\n",
    "plt.savefig(fname=result_class_folder+f\"/{pick_type}_{epochs_type}_{baseline_duration}_{epoch_duration}.png\", dpi=200, facecolor=\"white\", transparent=False)"
   ]
  },
  {
   "cell_type": "markdown",
   "metadata": {},
   "source": [
    "## Decoding with go_signal epochs"
   ]
  },
  {
   "cell_type": "code",
   "execution_count": null,
   "metadata": {},
   "outputs": [],
   "source": [
    "epochs_type = \"go_signal\"\n",
    "baseline_duration = 0.1\n",
    "epoch_duration = 0.8"
   ]
  },
  {
   "cell_type": "markdown",
   "metadata": {},
   "source": [
    "Load epochs"
   ]
  },
  {
   "cell_type": "code",
   "execution_count": null,
   "metadata": {},
   "outputs": [
    {
     "name": "stdout",
     "output_type": "stream",
     "text": [
      "Not setting metadata\n",
      "727 matching events found\n",
      "No baseline correction applied\n"
     ]
    }
   ],
   "source": [
    "decoding_epochs, y = decoding.get_eeg_epochs_and_labels_for_binary_decoding(\n",
    "    conditions_class_1 = conditions_normal_room, \n",
    "    conditions_class_2 = conditions_high_room, \n",
    "    epochs_type = epochs_type, \n",
    "    pick_type = pick_type, \n",
    "    baseline_duration = baseline_duration, \n",
    "    epoch_duration = epoch_duration\n",
    "    )"
   ]
  },
  {
   "cell_type": "markdown",
   "metadata": {},
   "source": [
    "Compute decoding scores across time"
   ]
  },
  {
   "cell_type": "code",
   "execution_count": null,
   "metadata": {},
   "outputs": [
    {
     "name": "stderr",
     "output_type": "stream",
     "text": [
      "[Parallel(n_jobs=8)]: Using backend LokyBackend with 8 concurrent workers.\n",
      "[Parallel(n_jobs=8)]: Done   2 out of   4 | elapsed:    1.0s remaining:    1.0s\n",
      "[Parallel(n_jobs=8)]: Done   4 out of   4 | elapsed:    1.0s finished\n"
     ]
    }
   ],
   "source": [
    "from sklearn.utils import shuffle\n",
    "\n",
    "X = decoding_epochs.get_data(copy=False, verbose=False)\n",
    "X,y = shuffle(X,y)\n",
    "scores = decoding.compute_decoding_scores(eeg_data=X, labels=y, decoder=\"logistic\", cv=4, ncores=8)"
   ]
  },
  {
   "cell_type": "markdown",
   "metadata": {},
   "source": [
    "Plot results"
   ]
  },
  {
   "cell_type": "code",
   "execution_count": null,
   "metadata": {},
   "outputs": [],
   "source": [
    "decoding.plot_decoding_scores(\n",
    "    decoding_scores=scores,\n",
    "    epochs=decoding_epochs,\n",
    "    end_stim=0,\n",
    "    plot_title=f\"Sensor space decoding on {pick_type} channels on {epochs_type} epochs ({class_1} vs. {class_2} height)\", \n",
    "    plotting_theme=\"ticks\"\n",
    ")\n",
    "\n",
    "# Save the plot\n",
    "result_class_folder = f\"{config.work_dir}/results/{class_1}_vs_{class_2}\"\n",
    "os.makedirs(result_class_folder, exist_ok=True)\n",
    "plt.savefig(fname=result_class_folder+f\"/{pick_type}_{epochs_type}_{baseline_duration}_{epoch_duration}.png\", dpi=200, facecolor=\"white\", transparent=False)"
   ]
  },
  {
   "cell_type": "markdown",
   "metadata": {},
   "source": [
    "# Decoding the duration on frontocentral channels"
   ]
  },
  {
   "cell_type": "code",
   "execution_count": 55,
   "metadata": {},
   "outputs": [],
   "source": [
    "class_1 = \"Short duration\"\n",
    "class_2 = \"Long Duration\"\n",
    "conditions_class_1 = [\"SHS\"]\n",
    "conditions_class_2 = [\"SHL\"]\n",
    "pick_type = \"frontocentral\""
   ]
  },
  {
   "cell_type": "markdown",
   "metadata": {},
   "source": [
    "## Decoding with start_prod epochs"
   ]
  },
  {
   "cell_type": "code",
   "execution_count": 56,
   "metadata": {},
   "outputs": [],
   "source": [
    "epochs_type = \"start_prod\"\n",
    "baseline_duration = 0.1\n",
    "epoch_duration = 1"
   ]
  },
  {
   "cell_type": "markdown",
   "metadata": {},
   "source": [
    "Load epochs"
   ]
  },
  {
   "cell_type": "code",
   "execution_count": 58,
   "metadata": {},
   "outputs": [
    {
     "name": "stdout",
     "output_type": "stream",
     "text": [
      "Not setting metadata\n",
      "207 matching events found\n",
      "No baseline correction applied\n"
     ]
    }
   ],
   "source": [
    "decoding_epochs, y = decoding.get_eeg_epochs_and_labels_for_binary_decoding(\n",
    "    conditions_class_1 = conditions_class_1, \n",
    "    conditions_class_2 = conditions_class_2, \n",
    "    epochs_type = epochs_type, \n",
    "    pick_type = pick_type, \n",
    "    baseline_duration = baseline_duration, \n",
    "    epoch_duration = epoch_duration\n",
    "    )"
   ]
  },
  {
   "cell_type": "markdown",
   "metadata": {},
   "source": [
    "Compute decoding scores across time"
   ]
  },
  {
   "cell_type": "code",
   "execution_count": 59,
   "metadata": {},
   "outputs": [
    {
     "name": "stderr",
     "output_type": "stream",
     "text": [
      "[Parallel(n_jobs=8)]: Using backend LokyBackend with 8 concurrent workers.\n",
      "[Parallel(n_jobs=8)]: Done   2 out of   4 | elapsed:    1.1s remaining:    1.1s\n",
      "[Parallel(n_jobs=8)]: Done   4 out of   4 | elapsed:    1.1s finished\n"
     ]
    }
   ],
   "source": [
    "from sklearn.utils import shuffle\n",
    "\n",
    "X = decoding_epochs.get_data(copy=False, verbose=False)\n",
    "X,y = shuffle(X,y)\n",
    "scores = decoding.compute_decoding_scores(eeg_data=X, labels=y, decoder=\"logistic\", cv=4, ncores=8)"
   ]
  },
  {
   "cell_type": "markdown",
   "metadata": {},
   "source": [
    "Plot results"
   ]
  },
  {
   "cell_type": "code",
   "execution_count": 60,
   "metadata": {},
   "outputs": [],
   "source": [
    "decoding.plot_decoding_scores(\n",
    "    decoding_scores=scores,\n",
    "    epochs=decoding_epochs,\n",
    "    end_stim=0,\n",
    "    plot_title=f\"Sensor space decoding on {pick_type} channels on {epochs_type} epochs ({class_1} vs. {class_2})\", \n",
    "    plotting_theme=\"ticks\"\n",
    ")\n",
    "\n",
    "# Save the plot\n",
    "result_class_folder = f\"{config.work_dir}/results/{class_1}_vs_{class_2}\"\n",
    "os.makedirs(result_class_folder, exist_ok=True)\n",
    "plt.savefig(fname=result_class_folder+f\"/{pick_type}_{epochs_type}_{baseline_duration}_{epoch_duration}.png\", dpi=200, facecolor=\"white\", transparent=False)"
   ]
  },
  {
   "cell_type": "markdown",
   "metadata": {},
   "source": [
    "## Decoding with go_signal epochs"
   ]
  },
  {
   "cell_type": "code",
   "execution_count": 61,
   "metadata": {},
   "outputs": [],
   "source": [
    "epochs_type = \"go_signal\"\n",
    "baseline_duration = 0.1\n",
    "epoch_duration = 0.8"
   ]
  },
  {
   "cell_type": "markdown",
   "metadata": {},
   "source": [
    "Load epochs"
   ]
  },
  {
   "cell_type": "code",
   "execution_count": 62,
   "metadata": {},
   "outputs": [
    {
     "name": "stdout",
     "output_type": "stream",
     "text": [
      "Not setting metadata\n",
      "208 matching events found\n",
      "No baseline correction applied\n"
     ]
    }
   ],
   "source": [
    "decoding_epochs, y = decoding.get_eeg_epochs_and_labels_for_binary_decoding(\n",
    "    conditions_class_1 = conditions_class_1, \n",
    "    conditions_class_2 = conditions_class_1, \n",
    "    epochs_type = epochs_type, \n",
    "    pick_type = pick_type, \n",
    "    baseline_duration = baseline_duration, \n",
    "    epoch_duration = epoch_duration\n",
    "    )"
   ]
  },
  {
   "cell_type": "markdown",
   "metadata": {},
   "source": [
    "Compute decoding scores across time"
   ]
  },
  {
   "cell_type": "code",
   "execution_count": 63,
   "metadata": {},
   "outputs": [
    {
     "name": "stderr",
     "output_type": "stream",
     "text": [
      "[Parallel(n_jobs=8)]: Using backend LokyBackend with 8 concurrent workers.\n"
     ]
    },
    {
     "name": "stderr",
     "output_type": "stream",
     "text": [
      "[Parallel(n_jobs=8)]: Done   2 out of   4 | elapsed:    0.7s remaining:    0.7s\n",
      "[Parallel(n_jobs=8)]: Done   4 out of   4 | elapsed:    0.7s finished\n"
     ]
    }
   ],
   "source": [
    "from sklearn.utils import shuffle\n",
    "\n",
    "X = decoding_epochs.get_data(copy=False, verbose=False)\n",
    "X,y = shuffle(X,y)\n",
    "scores = decoding.compute_decoding_scores(eeg_data=X, labels=y, decoder=\"logistic\", cv=4, ncores=8)"
   ]
  },
  {
   "cell_type": "markdown",
   "metadata": {},
   "source": [
    "Plot results"
   ]
  },
  {
   "cell_type": "code",
   "execution_count": 64,
   "metadata": {},
   "outputs": [],
   "source": [
    "decoding.plot_decoding_scores(\n",
    "    decoding_scores=scores,\n",
    "    epochs=decoding_epochs,\n",
    "    end_stim=0,\n",
    "    plot_title=f\"Sensor space decoding on {pick_type} channels on {epochs_type} epochs ({class_1} vs. {class_2})\", \n",
    "    plotting_theme=\"ticks\"\n",
    ")\n",
    "\n",
    "# Save the plot\n",
    "result_class_folder = f\"{config.work_dir}/results/{class_1}_vs_{class_2}\"\n",
    "os.makedirs(result_class_folder, exist_ok=True)\n",
    "plt.savefig(fname=result_class_folder+f\"/{pick_type}_{epochs_type}_{baseline_duration}_{epoch_duration}.png\", dpi=200, facecolor=\"white\", transparent=False)"
   ]
  },
  {
   "cell_type": "markdown",
   "metadata": {},
   "source": [
    "# Testing different decoding pipelines"
   ]
  },
  {
   "cell_type": "markdown",
   "metadata": {},
   "source": [
    "### Different ML models"
   ]
  },
  {
   "cell_type": "markdown",
   "metadata": {},
   "source": [
    "Load epochs"
   ]
  },
  {
   "cell_type": "code",
   "execution_count": 23,
   "metadata": {},
   "outputs": [],
   "source": [
    "class_1 = \"Short duration\"\n",
    "class_2 = \"Long Duration\"\n",
    "conditions_class_1 = [\"LNS\", \"SNS\", \"LHS\", \"SHS\"]\n",
    "conditions_class_2 = [\"LNL\", \"SNL\", \"LHS\", \"SHL\"]\n",
    "pick_type = \"frontocentral\"\n",
    "\n",
    "epochs_type = \"start_prod\"\n",
    "baseline_duration = 0.1\n",
    "epoch_duration = 1"
   ]
  },
  {
   "cell_type": "code",
   "execution_count": 18,
   "metadata": {},
   "outputs": [
    {
     "name": "stdout",
     "output_type": "stream",
     "text": [
      "Not setting metadata\n",
      "727 matching events found\n",
      "No baseline correction applied\n"
     ]
    }
   ],
   "source": [
    "decoding_epochs, y = decoding.get_eeg_epochs_and_labels_for_binary_decoding(\n",
    "    conditions_class_1 = conditions_class_1, \n",
    "    conditions_class_2 = conditions_class_2, \n",
    "    epochs_type = epochs_type, \n",
    "    pick_type = pick_type, \n",
    "    baseline_duration = baseline_duration, \n",
    "    epoch_duration = epoch_duration\n",
    "    )"
   ]
  },
  {
   "cell_type": "code",
   "execution_count": 19,
   "metadata": {},
   "outputs": [],
   "source": [
    "from sklearn.utils import shuffle\n",
    "from sklearn.pipeline import make_pipeline\n",
    "from sklearn.preprocessing import StandardScaler\n",
    "from sklearn.linear_model import LogisticRegression\n",
    "from sklearn.svm import SVC"
   ]
  },
  {
   "cell_type": "markdown",
   "metadata": {},
   "source": [
    "SVM linear kernel"
   ]
  },
  {
   "cell_type": "code",
   "execution_count": 20,
   "metadata": {},
   "outputs": [],
   "source": [
    "X = decoding_epochs.get_data(copy=False, verbose=False)\n",
    "X,y = shuffle(X,y)\n",
    "\n",
    "clf = make_pipeline(StandardScaler(), SVC(kernel=\"linear\"))\n",
    "time_decod = mne.decoding.SlidingEstimator(clf, n_jobs=8, scoring=\"roc_auc\", verbose=False)\n",
    "scores = mne.decoding.cross_val_multiscore(time_decod, X, y, cv=4, n_jobs=8, verbose=False)\n",
    "\n",
    "decoding.plot_decoding_scores(\n",
    "    decoding_scores=scores,\n",
    "    epochs=decoding_epochs,\n",
    "    end_stim=0,\n",
    "    plot_title=f\"Sensor space decoding on {pick_type} channels on {epochs_type} epochs ({class_1} vs. {class_2})\", \n",
    "    plotting_theme=\"ticks\"\n",
    ")"
   ]
  },
  {
   "cell_type": "markdown",
   "metadata": {},
   "source": [
    "SVM rbf kernel"
   ]
  },
  {
   "cell_type": "code",
   "execution_count": 21,
   "metadata": {},
   "outputs": [],
   "source": [
    "X = decoding_epochs.get_data(copy=False, verbose=False)\n",
    "X,y = shuffle(X,y)\n",
    "\n",
    "clf = make_pipeline(StandardScaler(), SVC(kernel=\"rbf\"))\n",
    "time_decod = mne.decoding.SlidingEstimator(clf, n_jobs=8, scoring=\"roc_auc\", verbose=False)\n",
    "scores = mne.decoding.cross_val_multiscore(time_decod, X, y, cv=4, n_jobs=8, verbose=False)\n",
    "\n",
    "decoding.plot_decoding_scores(\n",
    "    decoding_scores=scores,\n",
    "    epochs=decoding_epochs,\n",
    "    end_stim=0,\n",
    "    plot_title=f\"Sensor space decoding on {pick_type} channels on {epochs_type} epochs ({class_1} vs. {class_2})\", \n",
    "    plotting_theme=\"ticks\"\n",
    ")"
   ]
  },
  {
   "cell_type": "markdown",
   "metadata": {},
   "source": [
    "Logistic Regression"
   ]
  },
  {
   "cell_type": "code",
   "execution_count": 22,
   "metadata": {},
   "outputs": [],
   "source": [
    "X = decoding_epochs.get_data(copy=False, verbose=False)\n",
    "X,y = shuffle(X,y)\n",
    "\n",
    "clf = make_pipeline(StandardScaler(), LogisticRegression(solver=\"liblinear\"))\n",
    "time_decod = mne.decoding.SlidingEstimator(clf, n_jobs=8, scoring=\"roc_auc\", verbose=False)\n",
    "scores = mne.decoding.cross_val_multiscore(time_decod, X, y, cv=4, n_jobs=8, verbose=False)\n",
    "\n",
    "decoding.plot_decoding_scores(\n",
    "    decoding_scores=scores,\n",
    "    epochs=decoding_epochs,\n",
    "    end_stim=0,\n",
    "    plot_title=f\"Sensor space decoding on {pick_type} channels on {epochs_type} epochs ({class_1} vs. {class_2})\", \n",
    "    plotting_theme=\"ticks\"\n",
    ")"
   ]
  },
  {
   "cell_type": "markdown",
   "metadata": {},
   "source": [
    "### Different channels selections"
   ]
  },
  {
   "cell_type": "code",
   "execution_count": 29,
   "metadata": {},
   "outputs": [],
   "source": [
    "class_1 = \"Short duration\"\n",
    "class_2 = \"Long Duration\"\n",
    "conditions_class_1 = [\"LNS\", \"SNS\", \"LHS\", \"SHS\"]\n",
    "conditions_class_2 = [\"LNL\", \"SNL\", \"LHS\", \"SHL\"]\n",
    "pick_type = \"all_channels\"\n",
    "\n",
    "epochs_type = \"go_signal\"\n",
    "baseline_duration = 0.1\n",
    "epoch_duration = 0.8"
   ]
  },
  {
   "cell_type": "code",
   "execution_count": 30,
   "metadata": {},
   "outputs": [
    {
     "name": "stdout",
     "output_type": "stream",
     "text": [
      "Not setting metadata\n",
      "727 matching events found\n",
      "No baseline correction applied\n"
     ]
    }
   ],
   "source": [
    "decoding_epochs, y = decoding.get_eeg_epochs_and_labels_for_binary_decoding(\n",
    "    conditions_class_1 = conditions_class_1, \n",
    "    conditions_class_2 = conditions_class_2, \n",
    "    epochs_type = epochs_type, \n",
    "    pick_type = pick_type, \n",
    "    baseline_duration = baseline_duration, \n",
    "    epoch_duration = epoch_duration\n",
    "    )"
   ]
  },
  {
   "cell_type": "code",
   "execution_count": 31,
   "metadata": {},
   "outputs": [],
   "source": [
    "X = decoding_epochs.get_data(copy=False, verbose=False)\n",
    "X,y = shuffle(X,y)\n",
    "\n",
    "clf = make_pipeline(StandardScaler(), LogisticRegression(solver=\"liblinear\"))\n",
    "time_decod = mne.decoding.SlidingEstimator(clf, n_jobs=8, scoring=\"roc_auc\", verbose=False)\n",
    "scores = mne.decoding.cross_val_multiscore(time_decod, X, y, cv=4, n_jobs=8, verbose=False)\n",
    "\n",
    "decoding.plot_decoding_scores(\n",
    "    decoding_scores=scores,\n",
    "    epochs=decoding_epochs,\n",
    "    end_stim=0,\n",
    "    plot_title=f\"Sensor space decoding on {pick_type} channels on {epochs_type} epochs ({class_1} vs. {class_2})\", \n",
    "    plotting_theme=\"ticks\"\n",
    ")"
   ]
  },
  {
   "cell_type": "markdown",
   "metadata": {},
   "source": [
    "# Temporal Generalisation matrix"
   ]
  }
 ],
 "metadata": {
  "kernelspec": {
   "display_name": "base",
   "language": "python",
   "name": "python3"
  },
  "language_info": {
   "codemirror_mode": {
    "name": "ipython",
    "version": 3
   },
   "file_extension": ".py",
   "mimetype": "text/x-python",
   "name": "python",
   "nbconvert_exporter": "python",
   "pygments_lexer": "ipython3",
   "version": "3.9.7"
  }
 },
 "nbformat": 4,
 "nbformat_minor": 2
}
