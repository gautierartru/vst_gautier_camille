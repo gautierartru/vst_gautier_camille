{
 "cells": [
  {
   "cell_type": "code",
   "execution_count": 1,
   "metadata": {},
   "outputs": [
    {
     "name": "stderr",
     "output_type": "stream",
     "text": [
      "<frozen importlib._bootstrap>:228: RuntimeWarning: scipy._lib.messagestream.MessageStream size changed, may indicate binary incompatibility. Expected 56 from C header, got 64 from PyObject\n"
     ]
    }
   ],
   "source": [
    "%matplotlib qt\n",
    "import sys\n",
    "import mne\n",
    "import os\n",
    "import numpy as np\n",
    "import pandas as pd\n",
    "import seaborn as sns\n",
    "import matplotlib.pyplot as plt\n",
    "\n",
    "sys.path.append(r\"C:\\Users\\gautier\\OneDrive - CentraleSupelec\\3A - Master CNN\\Supervised Project\\pipeline project v0\\scripts\")\n",
    "sys.path.append(r\"C:\\Users\\gautier\\OneDrive - CentraleSupelec\\3A - Master CNN\\Supervised Project\\pipeline project v0\\config\")\n",
    "import eeg_preprocessing as preprocessing\n",
    "import eeg_decoding as decoding\n",
    "import vst_config as config"
   ]
  },
  {
   "cell_type": "markdown",
   "metadata": {},
   "source": [
    "# Channels Selection"
   ]
  },
  {
   "cell_type": "markdown",
   "metadata": {},
   "source": [
    "On frontocentral channels"
   ]
  },
  {
   "cell_type": "code",
   "execution_count": 2,
   "metadata": {},
   "outputs": [],
   "source": [
    "epochs_type = \"start_prod\"\n",
    "baseline_duration = 0.1\n",
    "epoch_duration = 4\n",
    "pick_type = \"frontocentral\"\n",
    "\n",
    "subject = \"VST_02_X\"\n",
    "\n",
    "low_freq = 4"
   ]
  },
  {
   "cell_type": "code",
   "execution_count": 3,
   "metadata": {},
   "outputs": [
    {
     "name": "stdout",
     "output_type": "stream",
     "text": [
      "[6.05031496e-11 4.85189656e-11 3.79507208e-11 3.25708764e-11\n",
      " 3.18872863e-11 3.18261462e-11 1.44106071e-11 1.11150685e-11\n",
      " 1.01489727e-11]\n",
      "Most to Least Variance for the LNS condition [7 4 1 0 3 8 2 5 6]\n",
      "[4.10488256e-11 3.91078200e-11 2.98862979e-11 2.53064765e-11\n",
      " 2.52835951e-11 2.47185391e-11 8.18133313e-12 7.86860454e-12\n",
      " 6.89564021e-12]\n",
      "Most to Least Variance for the LHS condition [7 4 1 0 8 3 2 5 6]\n",
      "[4.92323293e-11 4.57542890e-11 3.95244850e-11 3.17030235e-11\n",
      " 3.10616364e-11 2.85284498e-11 1.13031831e-11 1.04193366e-11\n",
      " 8.06129240e-12]\n",
      "Most to Least Variance for the SNS condition [7 4 1 0 8 3 2 5 6]\n",
      "[4.10665546e-11 3.92360636e-11 3.13776506e-11 2.58071762e-11\n",
      " 2.55794151e-11 2.37885375e-11 8.11992166e-12 7.92596689e-12\n",
      " 6.65187740e-12]\n",
      "Most to Least Variance for the SHS condition [7 4 1 0 8 3 2 5 6]\n",
      "[4.85090117e-11 4.39758974e-11 3.74846595e-11 2.97259453e-11\n",
      " 2.95795020e-11 2.79684676e-11 1.05210571e-11 9.75046778e-12\n",
      " 8.20321619e-12]\n",
      "Most to Least Variance for the LNL condition [7 4 1 0 8 3 2 5 6]\n",
      "[4.36959669e-11 4.21698693e-11 3.23331183e-11 2.72146310e-11\n",
      " 2.69210231e-11 2.57536095e-11 8.54738360e-12 8.02857762e-12\n",
      " 6.90120129e-12]\n",
      "Most to Least Variance for the LHL condition [7 4 1 0 8 3 2 5 6]\n",
      "[4.72758297e-11 4.25369992e-11 3.72397953e-11 2.69779372e-11\n",
      " 2.66512891e-11 2.61782777e-11 9.11880046e-12 8.94950788e-12\n",
      " 7.65958063e-12]\n",
      "Most to Least Variance for the SNL condition [7 4 1 0 8 3 2 5 6]\n",
      "[4.32024143e-11 4.10536588e-11 3.16925364e-11 2.66397631e-11\n",
      " 2.61132975e-11 2.54208377e-11 8.45779011e-12 7.91269985e-12\n",
      " 7.18564743e-12]\n",
      "Most to Least Variance for the SHL condition [7 4 1 0 8 3 2 5 6]\n"
     ]
    }
   ],
   "source": [
    "# Load epochs\n",
    "conditions = [\"LNS\", \"LHS\", \"SNS\", \"SHS\", \"LNL\", \"LHL\", \"SNL\", \"SHL\"]\n",
    "for condition in conditions:\n",
    "    epochs = preprocessing.load_subject_epochs_by_type_and_condition(subject, condition, epochs_type, baseline_duration, epoch_duration, pick_type, verbose=False)\n",
    "    covariance = mne.compute_covariance(epochs, method=\"auto\", verbose=False)\n",
    "    variances = np.diag(covariance.data)\n",
    "\n",
    "    sorted_electrodes = np.argsort(variances)[::-1]\n",
    "\n",
    "    print(variances[sorted_electrodes])\n",
    "    print(f\"Most to Least Variance for the {condition} condition\", sorted_electrodes)"
   ]
  },
  {
   "cell_type": "code",
   "execution_count": 4,
   "metadata": {},
   "outputs": [
    {
     "name": "stdout",
     "output_type": "stream",
     "text": [
      "F2\n"
     ]
    }
   ],
   "source": [
    "print(config.frontocentral_channels[7])"
   ]
  },
  {
   "cell_type": "markdown",
   "metadata": {},
   "source": [
    "On all channels"
   ]
  },
  {
   "cell_type": "code",
   "execution_count": 5,
   "metadata": {},
   "outputs": [],
   "source": [
    "epochs_type = \"start_prod\"\n",
    "baseline_duration = 0.1\n",
    "epoch_duration = 4\n",
    "pick_type = \"all_channels\"\n",
    "\n",
    "subject = \"VST_02_X\"\n",
    "\n",
    "low_freq = 4"
   ]
  },
  {
   "cell_type": "code",
   "execution_count": 6,
   "metadata": {},
   "outputs": [
    {
     "name": "stdout",
     "output_type": "stream",
     "text": [
      "[3.70587480e-09 6.39747321e-10 2.42099390e-10 2.25737786e-10\n",
      " 1.87120066e-10 1.79509971e-10 1.43568520e-10 1.42266470e-10\n",
      " 1.41912019e-10 1.31278708e-10 1.26852026e-10 1.24627940e-10\n",
      " 1.22291956e-10 1.16786469e-10 1.12194486e-10 1.10881877e-10\n",
      " 9.95093097e-11 9.82778379e-11 9.21712474e-11 9.13347446e-11\n",
      " 9.13190272e-11 8.79352408e-11 8.78548215e-11 8.72964974e-11\n",
      " 8.66413477e-11 8.49920176e-11 8.43998422e-11 7.99145565e-11\n",
      " 7.34105737e-11 7.25946301e-11 7.23460395e-11 7.23156060e-11\n",
      " 6.96850482e-11 6.10662760e-11 6.09603086e-11 6.08669504e-11\n",
      " 6.06957683e-11 6.01426361e-11 5.98090146e-11 5.88414547e-11\n",
      " 5.30093189e-11 5.04925702e-11 4.86964867e-11 4.86379013e-11\n",
      " 4.78954575e-11 4.01542900e-11 3.80046792e-11 3.79980049e-11\n",
      " 3.50880340e-11 3.25917576e-11 3.19039645e-11 3.18424485e-11\n",
      " 2.94544827e-11 2.78450934e-11 2.49341477e-11 2.35689008e-11\n",
      " 1.71230694e-11 1.67249149e-11 1.43198326e-11 1.10040318e-11\n",
      " 1.00319962e-11 8.25918629e-12 6.88692208e-12]\n",
      "Most to Least Variance for the LNS condition [12 18  0 31 58  3 34 56 13  7 35 57 38 17 59  1  2 62 29 23 60 52 11 48\n",
      "  8 32 53 42 19 27 51 24 30 22 61  6 37 33 45 55 54 28  4 36 26 41  9 39\n",
      " 50  5 10 40 16 46 14 49 47 25 15 43 44 21 20]\n",
      "[2.31391176e-10 2.30457666e-10 2.03863507e-10 1.59670287e-10\n",
      " 1.54468609e-10 1.41227015e-10 1.28615942e-10 1.28097624e-10\n",
      " 1.07602692e-10 1.01854672e-10 9.98075296e-11 9.75053041e-11\n",
      " 9.51940276e-11 9.38156913e-11 9.37109654e-11 9.27285067e-11\n",
      " 9.16337571e-11 9.08577352e-11 8.80546394e-11 8.68101044e-11\n",
      " 8.10100201e-11 7.35154772e-11 7.34294593e-11 7.32310065e-11\n",
      " 7.12672888e-11 6.37660016e-11 6.33416282e-11 6.26525579e-11\n",
      " 6.08546892e-11 5.96400549e-11 5.93779251e-11 5.81658149e-11\n",
      " 5.62475157e-11 5.52307154e-11 5.50650243e-11 5.31520825e-11\n",
      " 5.06160349e-11 4.70873439e-11 4.63213648e-11 4.60416550e-11\n",
      " 4.10693328e-11 4.10602637e-11 4.08441603e-11 3.91185019e-11\n",
      " 3.90754247e-11 3.08746666e-11 3.01043209e-11 2.98933873e-11\n",
      " 2.53117816e-11 2.52888914e-11 2.50003231e-11 2.47236152e-11\n",
      " 2.28389178e-11 2.22073912e-11 2.15797546e-11 2.01976333e-11\n",
      " 1.59887617e-11 1.21223897e-11 8.17996667e-12 7.86711624e-12\n",
      " 6.89377287e-12 6.71313974e-12 5.27998010e-12]\n",
      "Most to Least Variance for the LHS condition [12 18 31 58 62  3 13 56 30 17  0 59 57 23 29 60 52 48 53 35  7  8 19  1\n",
      " 42 27 51 32  2 11 34 22 61 55 24 38 54 26 45 28 33 37  6 36  4 41 39  9\n",
      "  5 40 16 10 46 50 49 14 47 25 15 43 44 21 20]\n",
      "[1.28143343e-09 5.77128109e-10 2.61713573e-10 2.22308027e-10\n",
      " 1.58892439e-10 1.58857429e-10 1.54230881e-10 1.27376874e-10\n",
      " 1.25755744e-10 1.20183540e-10 1.17669521e-10 1.11846846e-10\n",
      " 1.10036476e-10 1.08630626e-10 1.01360642e-10 9.86116753e-11\n",
      " 9.56532284e-11 8.26774543e-11 8.12860157e-11 8.10328612e-11\n",
      " 8.06393047e-11 7.92129909e-11 7.83069324e-11 7.69021757e-11\n",
      " 7.60564066e-11 7.59831222e-11 7.52379460e-11 7.50047413e-11\n",
      " 7.06949919e-11 6.81753666e-11 6.63915546e-11 6.54763627e-11\n",
      " 6.52954776e-11 5.87747871e-11 5.73705338e-11 5.34982160e-11\n",
      " 5.21884231e-11 5.08402490e-11 4.92856145e-11 4.92564217e-11\n",
      " 4.91481736e-11 4.78440026e-11 4.73815970e-11 4.59430637e-11\n",
      " 4.57755140e-11 3.98121078e-11 3.95405739e-11 3.40342851e-11\n",
      " 3.17126641e-11 3.13959301e-11 3.10707482e-11 2.85354732e-11\n",
      " 2.58585950e-11 2.47274502e-11 2.39199447e-11 2.36519506e-11\n",
      " 1.65805782e-11 1.54980928e-11 1.12960054e-11 1.04114303e-11\n",
      " 8.05144203e-12 7.15847045e-12 5.83371901e-12]\n",
      "Most to Least Variance for the SNS condition [12 18 31  3 13 56 58 35  0 57  7 34 17 38 62  8 59 42 23 29 60 52 48 11\n",
      " 32 53  2  1 19 30 24 27 51 61 55 22 54 28  6 37 33 26 45  4 36 39  9 41\n",
      "  5 50 40 10 14 49 46 16 25 47 15 43 44 21 20]\n",
      "[5.29686181e-10 2.75774024e-10 1.19709599e-10 1.18116863e-10\n",
      " 1.05709949e-10 1.05477868e-10 9.02774916e-11 8.82514070e-11\n",
      " 8.35428982e-11 7.98286998e-11 7.80524016e-11 7.42134914e-11\n",
      " 7.26364288e-11 7.00957234e-11 6.88380641e-11 6.87363841e-11\n",
      " 6.77466576e-11 6.65650318e-11 6.64481911e-11 6.49929628e-11\n",
      " 6.34626474e-11 6.20128338e-11 6.12582835e-11 5.90489203e-11\n",
      " 5.66656948e-11 5.62529769e-11 5.48550342e-11 5.46211960e-11\n",
      " 5.34282226e-11 5.15006458e-11 4.95301173e-11 4.92618272e-11\n",
      " 4.86208043e-11 4.38786714e-11 4.38111163e-11 4.30850639e-11\n",
      " 3.95873415e-11 3.91041859e-11 3.89328420e-11 3.87233648e-11\n",
      " 3.74981094e-11 3.71839348e-11 3.68669497e-11 3.67486490e-11\n",
      " 3.66926485e-11 2.84643507e-11 2.81630534e-11 2.64426751e-11\n",
      " 2.58145124e-11 2.41836309e-11 2.37671868e-11 2.27560644e-11\n",
      " 2.10797904e-11 1.87779340e-11 1.85542066e-11 1.72366738e-11\n",
      " 1.27716684e-11 1.15425766e-11 7.82312701e-12 7.40083777e-12\n",
      " 6.20185240e-12 5.92341502e-12 4.55790014e-12]\n",
      "Most to Least Variance for the SHS condition [12 18 58  3 13 56 31 17 62 57 59 30  0 35 23 29 60 48 52  7 53  8 42  1\n",
      "  2 19 34 32 24 11 27 51 38 61 22 55 54 33 37  6 36  4 28 26 45 39  9 41\n",
      " 16  5 40 10 46 14 49 50 47 25 15 43 44 21 20]\n",
      "[5.67708909e-10 4.63571690e-10 1.65731804e-10 1.63961032e-10\n",
      " 1.56936680e-10 1.41603869e-10 1.41570880e-10 1.15304805e-10\n",
      " 1.10084243e-10 1.07755176e-10 1.03822597e-10 1.02031766e-10\n",
      " 1.00959385e-10 9.77759544e-11 9.72520550e-11 9.20683866e-11\n",
      " 8.44116793e-11 8.34798033e-11 8.31757702e-11 8.31296467e-11\n",
      " 8.06588347e-11 7.92899062e-11 7.70391422e-11 7.66529573e-11\n",
      " 7.21318318e-11 7.20032929e-11 6.62767740e-11 6.62513856e-11\n",
      " 6.62064643e-11 6.60494460e-11 6.45838615e-11 6.14905255e-11\n",
      " 6.14814414e-11 5.67137049e-11 5.53047268e-11 5.32981167e-11\n",
      " 4.99201251e-11 4.85224087e-11 4.84662957e-11 4.80834379e-11\n",
      " 4.77084591e-11 4.68443874e-11 4.55118952e-11 4.40520570e-11\n",
      " 4.39875284e-11 3.80752766e-11 3.74937616e-11 3.51935256e-11\n",
      " 3.16973970e-11 2.97320248e-11 2.95855244e-11 2.79738624e-11\n",
      " 2.64035182e-11 2.49624250e-11 2.45465849e-11 2.10258002e-11\n",
      " 1.49939674e-11 1.26023589e-11 1.05196547e-11 9.74876518e-12\n",
      " 8.20091081e-12 6.57238219e-12 4.97821469e-12]\n",
      "Most to Least Variance for the LNL condition [12 18 31  3 58 56 13 57  7 17 38 35 34  0 59 62 29 60  8 23 52 48 53 11\n",
      " 19 42 32  2 24 30  1 51 27 61 55 22 54 37  6 33 45 28 26  4 36 39  9 41\n",
      " 50  5 40 10 16 14 46 49 47 25 15 43 44 21 20]\n",
      "[1.94714811e-10 1.66360840e-10 1.37397402e-10 1.31128083e-10\n",
      " 1.30134783e-10 1.30066074e-10 1.10896067e-10 1.07232761e-10\n",
      " 1.01701163e-10 9.96482247e-11 9.90933194e-11 9.22234389e-11\n",
      " 9.17024509e-11 9.15115903e-11 9.12202462e-11 9.02487039e-11\n",
      " 8.93525775e-11 8.71736822e-11 8.65983341e-11 8.63422464e-11\n",
      " 8.58554664e-11 7.35069243e-11 7.29767792e-11 7.04222276e-11\n",
      " 6.80658122e-11 6.48305282e-11 6.43976578e-11 6.17917311e-11\n",
      " 5.91328318e-11 5.87717721e-11 5.66521605e-11 5.64135038e-11\n",
      " 5.61245226e-11 5.39852099e-11 5.33374828e-11 5.19641773e-11\n",
      " 4.74541366e-11 4.67134593e-11 4.42307923e-11 4.37046877e-11\n",
      " 4.35589665e-11 4.35088472e-11 4.34975862e-11 4.22982616e-11\n",
      " 4.21781990e-11 3.26646304e-11 3.23389267e-11 3.14957295e-11\n",
      " 2.72191274e-11 2.69254442e-11 2.57577314e-11 2.31561560e-11\n",
      " 2.20376826e-11 2.12002217e-11 2.08646539e-11 2.02272024e-11\n",
      " 1.43086137e-11 1.17254740e-11 8.54709529e-12 8.02815634e-12\n",
      " 6.90049104e-12 6.21535434e-12 4.72002979e-12]\n",
      "Most to Least Variance for the LHL condition [12 18 58 13 56  3 31 17 30 62 57 23 29 60 59 52 48  0  7 53 35  8 42  1\n",
      " 19 32  2 34 27 51 11 38 22 24 61 55 54 45 26 37  6 28 33  4 36 39  9 41\n",
      "  5 40 10 16 46 14 50 49 47 25 15 43 44 21 20]\n",
      "[3.04768324e-10 2.70927041e-10 2.12417992e-10 2.09415683e-10\n",
      " 1.69616689e-10 1.62926612e-10 1.62732929e-10 1.34310096e-10\n",
      " 1.26363210e-10 1.25499654e-10 1.23506950e-10 1.17621308e-10\n",
      " 1.16293191e-10 1.12082595e-10 1.04386841e-10 9.76353613e-11\n",
      " 9.61753465e-11 8.37012984e-11 8.24168609e-11 8.16810626e-11\n",
      " 8.16447154e-11 8.11661604e-11 7.92751612e-11 7.89515241e-11\n",
      " 7.59580914e-11 7.37915239e-11 7.29236162e-11 7.17029443e-11\n",
      " 6.96976443e-11 6.63703963e-11 6.50260761e-11 6.04024678e-11\n",
      " 6.04010756e-11 5.77968114e-11 5.58087713e-11 5.46554670e-11\n",
      " 5.00075505e-11 4.98756520e-11 4.72863617e-11 4.71353411e-11\n",
      " 4.71307669e-11 4.69928051e-11 4.59681063e-11 4.25463166e-11\n",
      " 4.24767649e-11 3.74079530e-11 3.72477550e-11 3.46041742e-11\n",
      " 2.87723804e-11 2.69832666e-11 2.66565347e-11 2.61834021e-11\n",
      " 2.56790960e-11 2.52179631e-11 2.36845556e-11 2.22110174e-11\n",
      " 1.62739674e-11 1.40618900e-11 9.11955225e-12 8.95021628e-12\n",
      " 7.65995840e-12 6.86990393e-12 5.31653020e-12]\n",
      "Most to Least Variance for the SNL condition [12 18  3 31 58 56 13 57  0  7 35 17 38 34 59  8 62 11 42 23 29 60 52 48\n",
      " 53 32 19  1  2 24 30 27 51 22 61 55 45 54 37 33  6 28 26 36  4 39  9 41\n",
      " 50  5 40 10 16 46 14 49 47 25 15 43 44 21 20]\n",
      "[1.78717942e-10 1.69033363e-10 1.39299050e-10 1.25953748e-10\n",
      " 1.22180935e-10 1.21975525e-10 1.14029158e-10 9.41128800e-11\n",
      " 8.88093836e-11 8.55687425e-11 8.51702149e-11 8.28937234e-11\n",
      " 8.05151299e-11 7.84349828e-11 7.34290121e-11 7.15062462e-11\n",
      " 6.90340098e-11 6.86625447e-11 6.85412806e-11 6.80005337e-11\n",
      " 6.75695893e-11 6.68049869e-11 6.61420242e-11 6.58649798e-11\n",
      " 6.41763978e-11 5.93862760e-11 5.88220117e-11 5.74236956e-11\n",
      " 5.64290100e-11 5.41954170e-11 5.15976690e-11 5.13728768e-11\n",
      " 5.02805361e-11 4.97307252e-11 4.66570525e-11 4.57379648e-11\n",
      " 4.15826635e-11 4.01946842e-11 4.00571599e-11 4.00234580e-11\n",
      " 3.98320954e-11 3.97290455e-11 3.94164508e-11 3.89168141e-11\n",
      " 3.88200198e-11 3.15712779e-11 3.11649883e-11 2.81239549e-11\n",
      " 2.57253951e-11 2.51856047e-11 2.34087699e-11 2.31146990e-11\n",
      " 2.18072480e-11 2.00585238e-11 1.96312292e-11 1.94561024e-11\n",
      " 1.50603376e-11 1.14484573e-11 8.37509385e-12 7.87810878e-12\n",
      " 6.67402128e-12 6.50220984e-12 5.04263488e-12]\n",
      "Most to Least Variance for the SHL condition [12 18 58  3 56 13 31 17 57  0 62 59 35 30  7  8 23 60 29  1 52 48 42 32\n",
      " 53  2 19 34 11 24 27 51 22 38 61 55 54  4 36 45  6 33 37 26 28  9 39 41\n",
      "  5 40 46 10 16 14 49 50 47 25 15 43 21 44 20]\n"
     ]
    }
   ],
   "source": [
    "# Load epochs\n",
    "conditions = [\"LNS\", \"LHS\", \"SNS\", \"SHS\", \"LNL\", \"LHL\", \"SNL\", \"SHL\"]\n",
    "for condition in conditions:\n",
    "    epochs = preprocessing.load_subject_epochs_by_type_and_condition(subject, condition, epochs_type, baseline_duration, epoch_duration, pick_type, verbose=False)\n",
    "    covariance = mne.compute_covariance(epochs, method=\"auto\", verbose=False)\n",
    "    variances = np.diag(covariance.data)\n",
    "\n",
    "    sorted_electrodes = np.argsort(variances)[::-1]\n",
    "\n",
    "    print(variances[sorted_electrodes])\n",
    "    print(f\"Most to Least Variance for the {condition} condition\", sorted_electrodes)"
   ]
  },
  {
   "cell_type": "markdown",
   "metadata": {},
   "source": [
    "# Visualise PSD"
   ]
  },
  {
   "cell_type": "markdown",
   "metadata": {},
   "source": [
    "## Utils"
   ]
  },
  {
   "cell_type": "code",
   "execution_count": 13,
   "metadata": {},
   "outputs": [],
   "source": [
    "from mne.time_frequency import (\n",
    "    tfr_array_morlet,\n",
    ")\n",
    "\n",
    "def get_spectrogram_from_epochs_array(epochs_array, low_freq, high_freq):\n",
    "    frequencies = np.arange(low_freq, high_freq)  \n",
    "    cycles_per_freq = 6\n",
    "    \n",
    "    power = tfr_array_morlet(epochs_array, sfreq=config.resample_sfreq, freqs=frequencies, n_cycles=cycles_per_freq, output='avg_power', n_jobs=-1)\n",
    "\n",
    "    return power"
   ]
  },
  {
   "cell_type": "code",
   "execution_count": 14,
   "metadata": {},
   "outputs": [],
   "source": [
    "def plot_psd_one_channel(psd):\n",
    "    plt.figure(figsize=(8, 5))\n",
    "    plt.plot(psd, label='PSD')\n",
    "    plt.xlabel('Frequency (Hz)')\n",
    "    plt.ylabel('Power Spectral Density')\n",
    "    plt.title('Power Spectral Density')\n",
    "    plt.legend()\n",
    "    plt.grid(True)\n",
    "\n",
    "    plt.show()"
   ]
  },
  {
   "cell_type": "code",
   "execution_count": 15,
   "metadata": {},
   "outputs": [],
   "source": [
    "def plot_psd_all_channels(psd):\n",
    "\n",
    "    average_psd = np.mean(psd, axis=0)\n",
    "    psd_std = np.std(psd, axis=0)\n",
    "\n",
    "    plt.figure(figsize=(8, 5))\n",
    "\n",
    "    plt.plot(average_psd, label='Average PSD')\n",
    "\n",
    "    plt.fill_between(\n",
    "        np.arange(len(average_psd)), average_psd - psd_std, average_psd + psd_std, alpha=0.2, label='Standard Deviation'\n",
    "    )\n",
    "\n",
    "    plt.xlabel('Frequency (Hz)')\n",
    "    plt.ylabel('Power Spectral Density (arbitrary units)')\n",
    "    plt.title('Average PSD with Standard Deviation')\n",
    "    plt.legend()\n",
    "    plt.grid(True)\n",
    "\n",
    "    plt.show()"
   ]
  },
  {
   "cell_type": "markdown",
   "metadata": {},
   "source": [
    "## Removing 1/f trend"
   ]
  },
  {
   "cell_type": "code",
   "execution_count": 16,
   "metadata": {},
   "outputs": [],
   "source": [
    "epochs_type = \"start_prod\"\n",
    "baseline_duration = 0.1\n",
    "epoch_duration = 4\n",
    "pick_type = \"frontocentral\"\n",
    "\n",
    "subject = \"VST_02_X\"\n",
    "condition = \"LNS\"\n",
    "\n",
    "low_freq = 4"
   ]
  },
  {
   "cell_type": "code",
   "execution_count": 17,
   "metadata": {},
   "outputs": [
    {
     "name": "stderr",
     "output_type": "stream",
     "text": [
      "[Parallel(n_jobs=-1)]: Using backend LokyBackend with 8 concurrent workers.\n",
      "[Parallel(n_jobs=-1)]: Done   4 out of   9 | elapsed:    4.5s remaining:    5.7s\n",
      "[Parallel(n_jobs=-1)]: Done   6 out of   9 | elapsed:    4.5s remaining:    2.2s\n",
      "[Parallel(n_jobs=-1)]: Done   9 out of   9 | elapsed:    4.9s finished\n"
     ]
    }
   ],
   "source": [
    "condition_epochs = preprocessing.load_subject_epochs_by_type_and_condition(subject, condition, epochs_type, baseline_duration, epoch_duration, pick_type, verbose=False)\n",
    "spectrogram = get_spectrogram_from_epochs_array(condition_epochs, low_freq, config.f_max_filtering)\n",
    "\n",
    "psd = np.mean(spectrogram, axis=2)"
   ]
  },
  {
   "cell_type": "markdown",
   "metadata": {},
   "source": [
    "Plot the PSD of one channel"
   ]
  },
  {
   "cell_type": "code",
   "execution_count": 18,
   "metadata": {},
   "outputs": [],
   "source": [
    "plot_psd_one_channel(psd[7])"
   ]
  },
  {
   "cell_type": "markdown",
   "metadata": {},
   "source": [
    "Plot the PSD averaged on all channels"
   ]
  },
  {
   "cell_type": "code",
   "execution_count": 19,
   "metadata": {},
   "outputs": [],
   "source": [
    "plot_psd_all_channels(psd)"
   ]
  },
  {
   "cell_type": "markdown",
   "metadata": {},
   "source": [
    "Removing the 1/f trend"
   ]
  },
  {
   "cell_type": "markdown",
   "metadata": {},
   "source": [
    "Using detrend in scipy"
   ]
  },
  {
   "cell_type": "code",
   "execution_count": 14,
   "metadata": {},
   "outputs": [],
   "source": [
    "from scipy.signal import detrend\n",
    "\n",
    "detrended_psd = detrend(psd, axis=1)\n",
    "plot_psd_all_channels(detrended_psd)"
   ]
  },
  {
   "cell_type": "markdown",
   "metadata": {},
   "source": [
    "Using the derivative"
   ]
  },
  {
   "cell_type": "code",
   "execution_count": 26,
   "metadata": {},
   "outputs": [
    {
     "name": "stdout",
     "output_type": "stream",
     "text": [
      "(104, 9, 1000)\n",
      "(104, 9, 999)\n",
      "Not setting metadata\n",
      "104 matching events found\n",
      "No baseline correction applied\n",
      "0 projection items activated\n"
     ]
    },
    {
     "name": "stderr",
     "output_type": "stream",
     "text": [
      "C:\\Users\\gautier\\AppData\\Local\\Temp/ipykernel_60628/3220476056.py:1: FutureWarning: The current default of copy=False will change to copy=True in 1.7. Set the value of copy explicitly to avoid this warning\n",
      "  data = condition_epochs.get_data()\n",
      "[Parallel(n_jobs=-1)]: Using backend LokyBackend with 8 concurrent workers.\n",
      "[Parallel(n_jobs=-1)]: Done   4 out of   9 | elapsed:    0.5s remaining:    0.6s\n",
      "[Parallel(n_jobs=-1)]: Done   6 out of   9 | elapsed:    0.5s remaining:    0.2s\n",
      "[Parallel(n_jobs=-1)]: Done   9 out of   9 | elapsed:    0.6s finished\n"
     ]
    }
   ],
   "source": [
    "data = condition_epochs.get_data()\n",
    "derived_data = np.diff(data, axis=2) / (1 / config.resample_sfreq)  \n",
    "print(data.shape)\n",
    "print(derived_data.shape)\n",
    "\n",
    "derived_epochs = mne.EpochsArray(derived_data, epochs.info)\n",
    "\n",
    "spectrogram = get_spectrogram_from_epochs_array(derived_epochs, low_freq, config.f_max_filtering)\n",
    "psd = np.mean(spectrogram, axis=2)\n",
    "plot_psd_all_channels(psd)"
   ]
  },
  {
   "cell_type": "markdown",
   "metadata": {},
   "source": [
    "# Visualise spectrograms"
   ]
  },
  {
   "cell_type": "markdown",
   "metadata": {},
   "source": [
    "## Utils"
   ]
  },
  {
   "cell_type": "code",
   "execution_count": 15,
   "metadata": {},
   "outputs": [],
   "source": [
    "from mne.baseline import rescale\n",
    "from mne.viz import centers_to_edges\n",
    "\n",
    "def plot_spectrogram(power, times, freqs, channel_name, channel_number, epochs_type, condition):\n",
    "\n",
    "  # if no channel_name is given, we plot the average power over all channels\n",
    "  if channel_name is None:\n",
    "    selected_power = power.mean(axis=0)\n",
    "    fig, ax = plt.subplots()\n",
    "    x, y = centers_to_edges(times * 1000, freqs)\n",
    "    mesh = ax.pcolormesh(x, y,selected_power, cmap=\"RdBu_r\", vmin=np.min(selected_power), vmax=np.max(selected_power))\n",
    "    ax.set_title(f\"Averaged TFR on the {epochs_type} for the {condition} condition - Averaged on all channels\")\n",
    "    ax.set(ylim=freqs[[0, -1]], xlabel=\"Time (ms)\")\n",
    "    fig.colorbar(mesh)\n",
    "  else:\n",
    "    # rescale(power[channel_number], times, (0.0, 0.1), mode=\"mean\", copy=False)\n",
    "    selected_power = power[channel_number]\n",
    "    fig, ax = plt.subplots()\n",
    "    x, y = centers_to_edges(times * 1000, freqs)\n",
    "    mesh = ax.pcolormesh(x, y,selected_power, cmap=\"RdBu_r\", vmin=np.min(selected_power), vmax=np.max(selected_power))\n",
    "    ax.set_title(f\"Averaged TFR on the {epochs_type} for the {condition} condition - {channel_name} channel\")\n",
    "    ax.set(ylim=freqs[[0, -1]], xlabel=\"Time (ms)\")\n",
    "    fig.colorbar(mesh)"
   ]
  },
  {
   "cell_type": "code",
   "execution_count": 16,
   "metadata": {},
   "outputs": [],
   "source": [
    "from mne.time_frequency import (\n",
    "    tfr_array_morlet,\n",
    ")\n",
    "\n",
    "def get_spectrogram_from_epochs_array(epochs_array, low_freq, high_freq):\n",
    "    frequencies = np.arange(low_freq, high_freq)  \n",
    "    cycles_per_freq = 6\n",
    "    \n",
    "    power = tfr_array_morlet(epochs_array, sfreq=config.resample_sfreq, freqs=frequencies, n_cycles=cycles_per_freq, output='avg_power', n_jobs=-1)\n",
    "    \n",
    "    return power\n",
    "\n",
    "def get_detrended_spectrogram_from_epochs_array(epochs_array, low_freq, high_freq):\n",
    "    frequencies = np.arange(low_freq, high_freq)  \n",
    "    cycles_per_freq = 6\n",
    "    \n",
    "    power = tfr_array_morlet(epochs_array, sfreq=config.resample_sfreq, freqs=frequencies, n_cycles=cycles_per_freq, output='avg_power', n_jobs=-1)\n",
    "    # Detrend spectrogram on the frequency axis\n",
    "    detrended_power = detrend(power, axis=1)\n",
    "    return detrended_power"
   ]
  },
  {
   "cell_type": "markdown",
   "metadata": {},
   "source": [
    "## Visualise spectrograms of one subject averaged on one condition"
   ]
  },
  {
   "cell_type": "markdown",
   "metadata": {},
   "source": [
    "Spectrograms of single channel"
   ]
  },
  {
   "cell_type": "code",
   "execution_count": 17,
   "metadata": {},
   "outputs": [],
   "source": [
    "epochs_type = \"start_prod\"\n",
    "baseline_duration = 0.1\n",
    "epoch_duration = 4\n",
    "pick_type = \"frontocentral\"\n",
    "\n",
    "subject = \"VST_02_X\"\n",
    "condition = \"LNS\"\n",
    "low_freq = 4"
   ]
  },
  {
   "cell_type": "code",
   "execution_count": 18,
   "metadata": {},
   "outputs": [
    {
     "name": "stderr",
     "output_type": "stream",
     "text": [
      "[Parallel(n_jobs=-1)]: Using backend LokyBackend with 8 concurrent workers.\n",
      "[Parallel(n_jobs=-1)]: Done   4 out of   9 | elapsed:    0.4s remaining:    0.5s\n",
      "[Parallel(n_jobs=-1)]: Done   6 out of   9 | elapsed:    0.4s remaining:    0.1s\n",
      "[Parallel(n_jobs=-1)]: Done   9 out of   9 | elapsed:    0.6s finished\n"
     ]
    }
   ],
   "source": [
    "condition_epochs = preprocessing.load_subject_epochs_by_type_and_condition(subject, condition, epochs_type, baseline_duration, epoch_duration, pick_type, verbose=False)\n",
    "spectrogram = get_spectrogram_from_epochs_array(condition_epochs, low_freq, config.f_max_filtering)\n",
    "\n",
    "for channel_number, channel_name in enumerate(config.frontocentral_channels):\n",
    "    times = np.arange(spectrogram.shape[2])/config.resample_sfreq\n",
    "    frequencies = np.arange(low_freq, config.f_max_filtering)\n",
    "    plot_spectrogram(spectrogram, times, frequencies, channel_name, channel_number, epochs_type, condition)"
   ]
  },
  {
   "cell_type": "markdown",
   "metadata": {},
   "source": [
    "Channel 2 of frontocentral channels (FC1), seems to give good spectrograms. FCz does not"
   ]
  },
  {
   "cell_type": "markdown",
   "metadata": {},
   "source": [
    "Detrended spectogram "
   ]
  },
  {
   "cell_type": "code",
   "execution_count": 19,
   "metadata": {},
   "outputs": [
    {
     "name": "stderr",
     "output_type": "stream",
     "text": [
      "[Parallel(n_jobs=-1)]: Using backend LokyBackend with 8 concurrent workers.\n",
      "[Parallel(n_jobs=-1)]: Done   4 out of   9 | elapsed:    0.4s remaining:    0.5s\n",
      "[Parallel(n_jobs=-1)]: Done   6 out of   9 | elapsed:    0.4s remaining:    0.1s\n",
      "[Parallel(n_jobs=-1)]: Done   9 out of   9 | elapsed:    0.6s finished\n",
      "[Parallel(n_jobs=-1)]: Using backend LokyBackend with 8 concurrent workers.\n",
      "[Parallel(n_jobs=-1)]: Done   4 out of   9 | elapsed:    0.3s remaining:    0.4s\n",
      "[Parallel(n_jobs=-1)]: Done   6 out of   9 | elapsed:    0.4s remaining:    0.1s\n",
      "[Parallel(n_jobs=-1)]: Done   9 out of   9 | elapsed:    0.5s finished\n"
     ]
    }
   ],
   "source": [
    "condition_epochs = preprocessing.load_subject_epochs_by_type_and_condition(subject, condition, epochs_type, baseline_duration, epoch_duration, pick_type, verbose=False)\n",
    "detrended_spectrogram = get_detrended_spectrogram_from_epochs_array(condition_epochs, low_freq, config.f_max_filtering)\n",
    "spectrogram = get_spectrogram_from_epochs_array(condition_epochs, low_freq, config.f_max_filtering)\n",
    "\n",
    "# Visualising the detrended spectrogram on FC1 channel\n",
    "times = np.arange(spectrogram.shape[2])/config.resample_sfreq\n",
    "frequencies = np.arange(low_freq, config.f_max_filtering)\n",
    "plot_spectrogram(spectrogram, times, frequencies, 'FC1', 1, epochs_type, condition)\n",
    "plot_spectrogram(detrended_spectrogram, times, frequencies, 'FC1', 1, epochs_type, condition)"
   ]
  },
  {
   "cell_type": "markdown",
   "metadata": {},
   "source": [
    "Detrended and normal spectrogram on all channels"
   ]
  },
  {
   "cell_type": "code",
   "execution_count": 20,
   "metadata": {},
   "outputs": [],
   "source": [
    "# Visualising the detrended spectrogram on all channels of the frontocentral area\n",
    "times = np.arange(spectrogram.shape[2])/config.resample_sfreq\n",
    "frequencies = np.arange(low_freq, config.f_max_filtering)\n",
    "plot_spectrogram(spectrogram, times, frequencies, None, None, epochs_type, condition)\n",
    "plot_spectrogram(detrended_spectrogram, times, frequencies, None, None, epochs_type, condition)"
   ]
  },
  {
   "cell_type": "markdown",
   "metadata": {},
   "source": [
    "## Compare spectrograms of 2 conditions"
   ]
  },
  {
   "cell_type": "markdown",
   "metadata": {},
   "source": [
    "Plotting detrended and averaged spectrograms of a pair of conditions on FC1 channel"
   ]
  },
  {
   "cell_type": "code",
   "execution_count": 21,
   "metadata": {},
   "outputs": [],
   "source": [
    "condition_1 = \"LNS\"\n",
    "condition_2 = \"LHS\"\n",
    "pick_type = \"frontocentral\"\n",
    "subject = \"VST_02_X\"\n",
    "\n",
    "epochs_type = \"start_prod\"\n",
    "baseline_duration = 0.1\n",
    "epoch_duration = 4"
   ]
  },
  {
   "cell_type": "code",
   "execution_count": 22,
   "metadata": {},
   "outputs": [
    {
     "name": "stderr",
     "output_type": "stream",
     "text": [
      "[Parallel(n_jobs=-1)]: Using backend LokyBackend with 8 concurrent workers.\n",
      "[Parallel(n_jobs=-1)]: Done   4 out of   9 | elapsed:    0.4s remaining:    0.5s\n",
      "[Parallel(n_jobs=-1)]: Done   6 out of   9 | elapsed:    0.4s remaining:    0.1s\n",
      "[Parallel(n_jobs=-1)]: Done   9 out of   9 | elapsed:    0.6s finished\n",
      "[Parallel(n_jobs=-1)]: Using backend LokyBackend with 8 concurrent workers.\n",
      "[Parallel(n_jobs=-1)]: Done   4 out of   9 | elapsed:    0.3s remaining:    0.4s\n",
      "[Parallel(n_jobs=-1)]: Done   6 out of   9 | elapsed:    0.3s remaining:    0.1s\n",
      "[Parallel(n_jobs=-1)]: Done   9 out of   9 | elapsed:    0.6s finished\n"
     ]
    }
   ],
   "source": [
    "condition_1_epochs = preprocessing.load_subject_epochs_by_type_and_condition(subject, condition_1, epochs_type, baseline_duration, epoch_duration, pick_type, verbose=False)\n",
    "spectrogram_condition_1 = get_spectrogram_from_epochs_array(condition_1_epochs, 5, config.f_max_filtering)\n",
    "\n",
    "condition_2_epochs = preprocessing.load_subject_epochs_by_type_and_condition(subject, condition_2, epochs_type, baseline_duration, epoch_duration, pick_type, verbose=False)\n",
    "spectrogram_condition_2 = get_detrended_spectrogram_from_epochs_array(condition_2_epochs, 5, config.f_max_filtering)\n",
    "\n",
    "times = np.arange(spectrogram.shape[2])/config.resample_sfreq\n",
    "frequencies = np.arange(5, config.f_max_filtering)\n",
    "plot_spectrogram(spectrogram_condition_1, times, frequencies, None, None, epochs_type, condition_1)\n",
    "plot_spectrogram(spectrogram_condition_2, times, frequencies, None, None, epochs_type, condition_2)"
   ]
  },
  {
   "cell_type": "markdown",
   "metadata": {},
   "source": [
    "# Power time courses on one channel"
   ]
  },
  {
   "cell_type": "markdown",
   "metadata": {},
   "source": [
    "## Utils"
   ]
  },
  {
   "cell_type": "code",
   "execution_count": 23,
   "metadata": {},
   "outputs": [],
   "source": [
    "def plot_time_course(power, times, power_range_name, channel_name, channel_number, epochs_type, condition):\n",
    "   \n",
    "  # TFR is computed from 4 to 40Hz\n",
    "  if power_range_name == \"theta\":\n",
    "    power_range = np.arange(4, 8, 1) - 4 \n",
    "  elif power_range_name == \"alpha\":\n",
    "    power_range = np.arange(8, 14, 1) - 4  \n",
    "  elif power_range_name == \"beta\":\n",
    "    power_range = np.arange(14, 30, 1) - 4  \n",
    "  elif power_range_name == \"gamma\":\n",
    "    power_range = np.arange(30, 40, 1) - 4 \n",
    "\n",
    "  if channel_name is None:\n",
    "    power_timecourse = np.mean(power[:, power_range, :], axis=(0, 1))\n",
    "    fig, ax = plt.subplots(figsize=(12, 6))\n",
    "\n",
    "    ax.plot(times, power_timecourse, label=condition, color='blue')\n",
    "    ax.set_title(f\"{power_range_name} time course on the {epochs_type} averaged on all channels for the {condition} condition\")\n",
    "    ax.set(ylabel=f\"{power_range_name} power\", xlabel=\"Time (ms)\")\n",
    "  else:\n",
    "    power_timecourse = np.mean(power[channel_number][power_range, :], axis=0)\n",
    "    fig, ax = plt.subplots(figsize=(12, 6))\n",
    "\n",
    "    ax.plot(times, power_timecourse, label=condition, color='blue')\n",
    "    ax.set_title(f\"{power_range_name} time course on the {epochs_type} for channel {channel_name} for the {condition} condition\")\n",
    "    ax.set(ylabel=f\"{power_range_name} power\", xlabel=\"Time (ms)\")\n",
    "\n",
    "  ax.legend()\n",
    "\n",
    "  plt.show()"
   ]
  },
  {
   "cell_type": "markdown",
   "metadata": {},
   "source": [
    "## Time courses on two conditions"
   ]
  },
  {
   "cell_type": "markdown",
   "metadata": {},
   "source": [
    "Computing theta time courses for several pairs of conditions on FC1 channel"
   ]
  },
  {
   "cell_type": "code",
   "execution_count": 24,
   "metadata": {},
   "outputs": [],
   "source": [
    "epochs_type = \"start_prod\"\n",
    "baseline_duration = 0.1\n",
    "epoch_duration = 4\n",
    "pick_type = \"frontocentral\"\n",
    "\n",
    "subject = \"VST_02_X\"\n",
    "condition_1 = \"SNS\"\n",
    "condition_2 = \"SNL\"\n",
    "\n",
    "low_freq = 4"
   ]
  },
  {
   "cell_type": "code",
   "execution_count": 25,
   "metadata": {},
   "outputs": [
    {
     "name": "stderr",
     "output_type": "stream",
     "text": [
      "[Parallel(n_jobs=-1)]: Using backend LokyBackend with 8 concurrent workers.\n",
      "[Parallel(n_jobs=-1)]: Done   4 out of   9 | elapsed:    0.4s remaining:    0.5s\n",
      "[Parallel(n_jobs=-1)]: Done   6 out of   9 | elapsed:    0.4s remaining:    0.2s\n",
      "[Parallel(n_jobs=-1)]: Done   9 out of   9 | elapsed:    0.6s finished\n",
      "[Parallel(n_jobs=-1)]: Using backend LokyBackend with 8 concurrent workers.\n",
      "[Parallel(n_jobs=-1)]: Done   4 out of   9 | elapsed:    0.4s remaining:    0.5s\n",
      "[Parallel(n_jobs=-1)]: Done   6 out of   9 | elapsed:    0.4s remaining:    0.1s\n",
      "[Parallel(n_jobs=-1)]: Done   9 out of   9 | elapsed:    0.6s finished\n"
     ]
    }
   ],
   "source": [
    "condition_1_epochs = preprocessing.load_subject_epochs_by_type_and_condition(subject, condition_1, epochs_type, baseline_duration, epoch_duration, pick_type, verbose=False)\n",
    "spectrogram_condition_1 = get_detrended_spectrogram_from_epochs_array(condition_1_epochs, 5, config.f_max_filtering)\n",
    "\n",
    "condition_2_epochs = preprocessing.load_subject_epochs_by_type_and_condition(subject, condition_2, epochs_type, baseline_duration, epoch_duration, pick_type, verbose=False)\n",
    "spectrogram_condition_2 = get_detrended_spectrogram_from_epochs_array(condition_2_epochs, 5, config.f_max_filtering)\n",
    "\n",
    "times = np.arange(spectrogram.shape[2])/config.resample_sfreq"
   ]
  },
  {
   "cell_type": "code",
   "execution_count": 26,
   "metadata": {},
   "outputs": [],
   "source": [
    "# Power to analyze\n",
    "power_range = \"alpha\""
   ]
  },
  {
   "cell_type": "markdown",
   "metadata": {},
   "source": [
    "Plot time courses for detretended spectrograms on single channel"
   ]
  },
  {
   "cell_type": "code",
   "execution_count": 27,
   "metadata": {},
   "outputs": [],
   "source": [
    "channel_name = \"F2\"\n",
    "channel_number = 7"
   ]
  },
  {
   "cell_type": "code",
   "execution_count": 28,
   "metadata": {},
   "outputs": [],
   "source": [
    "plot_time_course(spectrogram_condition_1, times, power_range, channel_name, channel_number, epochs_type, condition_1)\n",
    "plot_time_course(spectrogram_condition_2, times, power_range, channel_name, channel_number, epochs_type, condition_2)"
   ]
  },
  {
   "cell_type": "markdown",
   "metadata": {},
   "source": [
    "Plot time courses for detretended spectrograms on all channels"
   ]
  },
  {
   "cell_type": "code",
   "execution_count": 29,
   "metadata": {},
   "outputs": [
    {
     "name": "stderr",
     "output_type": "stream",
     "text": [
      "C:\\Users\\gautier\\AppData\\Local\\Temp/ipykernel_60528/1065190934.py:15: RuntimeWarning: More than 20 figures have been opened. Figures created through the pyplot interface (`matplotlib.pyplot.figure`) are retained until explicitly closed and may consume too much memory. (To control this warning, see the rcParam `figure.max_open_warning`). Consider using `matplotlib.pyplot.close()`.\n",
      "  fig, ax = plt.subplots(figsize=(12, 6))\n"
     ]
    }
   ],
   "source": [
    "plot_time_course(spectrogram_condition_1, times, power_range, None, None, epochs_type, condition_1)\n",
    "plot_time_course(spectrogram_condition_2, times, power_range, None, None, epochs_type, condition_2)"
   ]
  },
  {
   "cell_type": "markdown",
   "metadata": {},
   "source": [
    "# Beta intercept of the four environments "
   ]
  },
  {
   "cell_type": "markdown",
   "metadata": {},
   "source": [
    "Computing the beta intercept at 0 second for the start_prod epoch for the four environments: LN, LH, SN and SH"
   ]
  },
  {
   "cell_type": "markdown",
   "metadata": {},
   "source": [
    "## Utils"
   ]
  },
  {
   "cell_type": "code",
   "execution_count": 30,
   "metadata": {},
   "outputs": [],
   "source": [
    "def get_power_intercept(power, power_range_name, time_intercept, channel_name, channel_number):\n",
    "   \n",
    "    # TFR is computed from 4 to 40Hz\n",
    "    if power_range_name == \"theta\":\n",
    "        power_range = np.arange(4, 8, 1) - 4 \n",
    "    elif power_range_name == \"alpha\":\n",
    "        power_range = np.arange(8, 14, 1) - 4  \n",
    "    elif power_range_name == \"beta\":\n",
    "        power_range = np.arange(14, 30, 1) - 4  \n",
    "    elif power_range_name == \"gamma\":\n",
    "        power_range = np.arange(30, 40, 1) - 4 \n",
    "\n",
    "    power_timecourse = None\n",
    "    if channel_name is None:\n",
    "        power_timecourse = np.mean(power[:, power_range, :], axis=(0, 1))\n",
    "    else:\n",
    "        power_timecourse = np.mean(power[channel_number][power_range, :], axis=0)\n",
    "\n",
    "    intercept = power_timecourse[time_intercept]\n",
    "    return intercept   "
   ]
  },
  {
   "cell_type": "markdown",
   "metadata": {},
   "source": [
    "## Plot intercepts"
   ]
  },
  {
   "cell_type": "code",
   "execution_count": 31,
   "metadata": {},
   "outputs": [],
   "source": [
    "epochs_type = \"start_prod\"\n",
    "baseline_duration = 0.1\n",
    "epoch_duration = 4\n",
    "pick_type = \"frontocentral\"\n",
    "subject = \"VST_02_X\"\n",
    "\n",
    "environments = [\"LN\", \"LH\", \"SN\", \"SH\"]\n",
    "power_range = \"beta\"\n",
    "\n",
    "low_freq = 4"
   ]
  },
  {
   "cell_type": "code",
   "execution_count": 32,
   "metadata": {},
   "outputs": [
    {
     "name": "stderr",
     "output_type": "stream",
     "text": [
      "[Parallel(n_jobs=-1)]: Using backend LokyBackend with 8 concurrent workers.\n",
      "[Parallel(n_jobs=-1)]: Done   4 out of   9 | elapsed:    1.0s remaining:    1.3s\n",
      "[Parallel(n_jobs=-1)]: Done   6 out of   9 | elapsed:    1.1s remaining:    0.5s\n",
      "[Parallel(n_jobs=-1)]: Done   9 out of   9 | elapsed:    1.7s finished\n",
      "[Parallel(n_jobs=-1)]: Using backend LokyBackend with 8 concurrent workers.\n",
      "[Parallel(n_jobs=-1)]: Done   4 out of   9 | elapsed:    1.0s remaining:    1.3s\n",
      "[Parallel(n_jobs=-1)]: Done   6 out of   9 | elapsed:    1.2s remaining:    0.5s\n",
      "[Parallel(n_jobs=-1)]: Done   9 out of   9 | elapsed:    1.8s finished\n",
      "[Parallel(n_jobs=-1)]: Using backend LokyBackend with 8 concurrent workers.\n",
      "[Parallel(n_jobs=-1)]: Done   4 out of   9 | elapsed:    1.2s remaining:    1.6s\n",
      "[Parallel(n_jobs=-1)]: Done   6 out of   9 | elapsed:    1.3s remaining:    0.6s\n",
      "[Parallel(n_jobs=-1)]: Done   9 out of   9 | elapsed:    2.2s finished\n",
      "[Parallel(n_jobs=-1)]: Using backend LokyBackend with 8 concurrent workers.\n",
      "[Parallel(n_jobs=-1)]: Done   4 out of   9 | elapsed:    1.5s remaining:    1.9s\n",
      "[Parallel(n_jobs=-1)]: Done   6 out of   9 | elapsed:    1.5s remaining:    0.7s\n",
      "[Parallel(n_jobs=-1)]: Done   9 out of   9 | elapsed:    2.4s finished\n"
     ]
    }
   ],
   "source": [
    "# Retrieve the intercept for the four environments\n",
    "intercepts = []\n",
    "\n",
    "\n",
    "for environment in environments:\n",
    "    environment_epochs_long = preprocessing.load_subject_epochs_by_type_and_condition(subject, environment+\"L\", epochs_type, baseline_duration, epoch_duration, pick_type, verbose=False)\n",
    "    environment_epochs_short = preprocessing.load_subject_epochs_by_type_and_condition(subject, environment+\"S\", epochs_type, baseline_duration, epoch_duration, pick_type, verbose=False)\n",
    "    environment_epochs = mne.concatenate_epochs([environment_epochs_long, environment_epochs_short], verbose=False)\n",
    "    spectrogram = get_detrended_spectrogram_from_epochs_array(environment_epochs, low_freq, config.f_max_filtering)\n",
    "    times = np.arange(spectrogram.shape[2])/config.resample_sfreq\n",
    "    \n",
    "    intercepts.append(get_power_intercept(spectrogram, power_range, 0,'F2', 7))"
   ]
  },
  {
   "cell_type": "code",
   "execution_count": 33,
   "metadata": {},
   "outputs": [],
   "source": [
    "# Plot intercepts\n",
    "fig, ax = plt.subplots(figsize=(12, 6))\n",
    "ax.bar(environments, intercepts)\n",
    "ax.set_title(f\"Intercept of the {power_range} power for the four environments\")\n",
    "ax.set(ylabel=f\"{power_range} power\", xlabel=\"Environment\")\n",
    "plt.show()"
   ]
  },
  {
   "cell_type": "markdown",
   "metadata": {},
   "source": [
    "# Analysis on short/long produced times"
   ]
  },
  {
   "cell_type": "markdown",
   "metadata": {},
   "source": [
    "The goal here is to associate each start_prod epoch with its relative produced duration compared to the goal. \n",
    "A produced duration will be considered short if it is n standard deviations away from the mean of the durations produced by the subject"
   ]
  },
  {
   "cell_type": "code",
   "execution_count": 2,
   "metadata": {},
   "outputs": [],
   "source": [
    "epochs_type = \"start_prod\"\n",
    "baseline_duration = 0.1\n",
    "epoch_duration = 4\n",
    "pick_type = \"frontocentral\"\n",
    "subject = \"VST_02_X\"\n",
    "\n",
    "environments = [\"LN\", \"LH\", \"SN\", \"SH\"]\n",
    "conditions = [\"LNS\", \"LHS\", \"SNS\", \"SHS\", \"LNL\", \"LHL\", \"SNL\", \"SHL\"]\n",
    "\n",
    "power_range = \"beta\"\n",
    "\n",
    "low_freq = 4"
   ]
  },
  {
   "cell_type": "markdown",
   "metadata": {},
   "source": [
    "## Analyse the produced durations distribution"
   ]
  },
  {
   "cell_type": "markdown",
   "metadata": {},
   "source": [
    "Analyse distribution with epochs metadata"
   ]
  },
  {
   "cell_type": "code",
   "execution_count": 3,
   "metadata": {},
   "outputs": [
    {
     "name": "stdout",
     "output_type": "stream",
     "text": [
      "Number of epochs : 104 for condition LNS\n",
      "Number of epochs : 104 for condition LHS\n",
      "Number of epochs : 104 for condition SNS\n",
      "Number of epochs : 104 for condition SHS\n",
      "Number of epochs : 104 for condition LNL\n",
      "Number of epochs : 104 for condition LHL\n",
      "Number of epochs : 104 for condition SNL\n",
      "Number of epochs : 103 for condition SHL\n",
      "\n",
      "Total number of epochs: 831\n"
     ]
    }
   ],
   "source": [
    "num_epochs = 0\n",
    "for condition in conditions:\n",
    "    epochs = preprocessing.load_subject_epochs_by_type_and_condition(subject, condition, epochs_type, baseline_duration, epoch_duration, pick_type, verbose=False)\n",
    "    print(\"Number of epochs : \"+str(epochs.__len__()) + \" for condition \" + condition)\n",
    "    num_epochs += epochs.__len__()\n",
    "print(\"\\nTotal number of epochs: \" + str(num_epochs))"
   ]
  },
  {
   "cell_type": "code",
   "execution_count": 4,
   "metadata": {},
   "outputs": [],
   "source": [
    "# Retrieve the produced duration distribution for all conditions\n",
    "produced_durations_dict = {}\n",
    "for condition in conditions:\n",
    "    condition_epochs = preprocessing.load_subject_epochs_by_type_and_condition(subject, condition, epochs_type, baseline_duration, epoch_duration, pick_type, verbose=False)\n",
    "    produced_durations_dict[condition] = condition_epochs.metadata[\"duration_produced\"]"
   ]
  },
  {
   "cell_type": "code",
   "execution_count": 5,
   "metadata": {},
   "outputs": [
    {
     "name": "stdout",
     "output_type": "stream",
     "text": [
      "Condition LNS:\n",
      "Mean: 1.4974615384615384\n",
      "Median: 1.46\n",
      "Standard deviation: 0.26743342962884625\n",
      "Variance: 0.07152063928304707\n",
      "Skewness: 1.2385770441868147\n",
      "Kurtosis: 2.708533317281989\n",
      "\n",
      "\n",
      "Condition LHS:\n",
      "Mean: 1.671153846153846\n",
      "Median: 1.588\n",
      "Standard deviation: 0.7016148193577051\n",
      "Variance: 0.4922633547423451\n",
      "Skewness: 3.7575196694132553\n",
      "Kurtosis: 19.83102891627363\n",
      "\n",
      "\n",
      "Condition SNS:\n",
      "Mean: 1.3708846153846155\n",
      "Median: 1.308\n",
      "Standard deviation: 0.35031745125559977\n",
      "Variance: 0.12272231665421951\n",
      "Skewness: 0.266373222694754\n",
      "Kurtosis: -0.6084547007875649\n",
      "\n",
      "\n",
      "Condition SHS:\n",
      "Mean: 1.6249615384615383\n",
      "Median: 1.6\n",
      "Standard deviation: 0.35652148788240245\n",
      "Variance: 0.12710757132188202\n",
      "Skewness: 0.26590494711641033\n",
      "Kurtosis: 0.7678060424713076\n",
      "\n",
      "\n",
      "Condition LNL:\n",
      "Mean: 3.319576923076923\n",
      "Median: 3.314\n",
      "Standard deviation: 0.5884939259002665\n",
      "Variance: 0.3463251008215084\n",
      "Skewness: 0.0713900545659056\n",
      "Kurtosis: -0.36211084467518706\n",
      "\n",
      "\n",
      "Condition LHL:\n",
      "Mean: 3.2854230769230766\n",
      "Median: 3.212\n",
      "Standard deviation: 0.5904945219332345\n",
      "Variance: 0.3486837804331591\n",
      "Skewness: 0.5025937511021765\n",
      "Kurtosis: 0.4736945556437764\n",
      "\n",
      "\n",
      "Condition SNL:\n",
      "Mean: 3.435653846153846\n",
      "Median: 3.3499999999999996\n",
      "Standard deviation: 0.7561924264433664\n",
      "Variance: 0.5718269858103061\n",
      "Skewness: 0.08559240430264796\n",
      "Kurtosis: 0.41026738243741123\n",
      "\n",
      "\n",
      "Condition SHL:\n",
      "Mean: 3.344116504854369\n",
      "Median: 3.364\n",
      "Standard deviation: 0.6048002635933338\n",
      "Variance: 0.365783358842566\n",
      "Skewness: -0.20785248519932448\n",
      "Kurtosis: -0.05727067499053673\n",
      "\n",
      "\n"
     ]
    }
   ],
   "source": [
    "# Compute major statistics for each distribution\n",
    "for condition in conditions:\n",
    "    print(f\"Condition {condition}:\")\n",
    "    print(f\"Mean: {produced_durations_dict[condition].mean()}\")\n",
    "    print(f\"Median: {produced_durations_dict[condition].median()}\")\n",
    "    print(f\"Standard deviation: {produced_durations_dict[condition].std()}\")\n",
    "    print(f\"Variance: {produced_durations_dict[condition].var()}\")\n",
    "    print(f\"Skewness: {produced_durations_dict[condition].skew()}\")\n",
    "    print(f\"Kurtosis: {produced_durations_dict[condition].kurtosis()}\")\n",
    "    print(\"\\n\")"
   ]
  },
  {
   "cell_type": "code",
   "execution_count": 6,
   "metadata": {},
   "outputs": [
    {
     "name": "stderr",
     "output_type": "stream",
     "text": [
      "No artists with labels found to put in legend.  Note that artists whose label start with an underscore are ignored when legend() is called with no argument.\n"
     ]
    }
   ],
   "source": [
    "# Plot the produced duration for all conditions\n",
    "fig, ax = plt.subplots(figsize=(8, 6))\n",
    "for i, condition in enumerate(conditions):\n",
    "    ax.boxplot(produced_durations_dict[condition], positions=[i], patch_artist=True)\n",
    "\n",
    "ax.set_xticklabels(conditions)\n",
    "ax.set_title(\"Produced Durations Box Plots\")\n",
    "plt.legend()\n",
    "plt.show()"
   ]
  },
  {
   "cell_type": "markdown",
   "metadata": {},
   "source": [
    "Analyse distribution with behavioural metadata"
   ]
  },
  {
   "cell_type": "code",
   "execution_count": 7,
   "metadata": {},
   "outputs": [
    {
     "name": "stdout",
     "output_type": "stream",
     "text": [
      "Nombre total d'essais :  824\n"
     ]
    }
   ],
   "source": [
    "import pandas as pd\n",
    "\n",
    "metadata_2 = pd.read_csv(r\"C:\\Users\\gautier\\Downloads\\clean_data_prod.csv\")\n",
    "metadata_2 = metadata_2[metadata_2[\"participant\"] == \"S02\"]\n",
    "print(\"Nombre total d'essais : \", metadata_2.shape[0])\n",
    "\n",
    "metadata_2.loc[metadata_2[\"room_height\"] == \"Low\", \"room_height\"] = \"Normal\"\n",
    "metadata_2[\"condition_initials\"] = metadata_2[\"room_size\"].str[0].str.upper() + metadata_2[\"room_height\"].str[0].str.upper() + metadata_2[\"dur_cond\"].str[0].str.upper()"
   ]
  },
  {
   "cell_type": "code",
   "execution_count": 12,
   "metadata": {},
   "outputs": [
    {
     "name": "stdout",
     "output_type": "stream",
     "text": [
      "Number of epochs : 103 for condition LNS\n",
      "Number of epochs : 104 for condition LHS\n",
      "Number of epochs : 103 for condition SNS\n",
      "Number of epochs : 103 for condition SHS\n",
      "Number of epochs : 103 for condition LNL\n",
      "Number of epochs : 102 for condition LHL\n",
      "Number of epochs : 103 for condition SNL\n",
      "Number of epochs : 103 for condition SHL\n"
     ]
    }
   ],
   "source": [
    "# Retrieve the produced duration distribution for all conditions\n",
    "produced_durations_dict_2 = {}\n",
    "for condition in conditions:\n",
    "    condition_df = metadata_2.loc[metadata_2[\"condition_initials\"] == condition, \"duration\"]\n",
    "    produced_durations_dict_2[condition] = condition_df\n",
    "    print(\"Number of epochs : \"+str(condition_df.shape[0]) + \" for condition \" + condition)"
   ]
  },
  {
   "cell_type": "code",
   "execution_count": 9,
   "metadata": {},
   "outputs": [
    {
     "name": "stdout",
     "output_type": "stream",
     "text": [
      "Condition LNS:\n",
      "Mean: 1.462459260194175\n",
      "Median: 1.422363\n",
      "Standard deviation: 0.2679702596813568\n",
      "Variance: 0.07180806007369378\n",
      "Skewness: 1.271197011195844\n",
      "Kurtosis: 2.8096611224945134\n",
      "\n",
      "\n",
      "Condition LHS:\n",
      "Mean: 1.638482904807692\n",
      "Median: 1.5555265\n",
      "Standard deviation: 0.7016788430257083\n",
      "Variance: 0.49235319874989647\n",
      "Skewness: 3.755256549894285\n",
      "Kurtosis: 19.8067863013939\n",
      "\n",
      "\n",
      "Condition SNS:\n",
      "Mean: 1.340301218446602\n",
      "Median: 1.277832\n",
      "Standard deviation: 0.35118827128939456\n",
      "Variance: 0.12333320189123341\n",
      "Skewness: 0.2498561954747845\n",
      "Kurtosis: -0.6198711430555526\n",
      "\n",
      "\n",
      "Condition SHS:\n",
      "Mean: 1.5847096378640777\n",
      "Median: 1.567383\n",
      "Standard deviation: 0.34974777657374473\n",
      "Variance: 0.12232350721827805\n",
      "Skewness: 0.2501443113422723\n",
      "Kurtosis: 0.8975613369882001\n",
      "\n",
      "\n",
      "Condition LNL:\n",
      "Mean: 3.2813827572815537\n",
      "Median: 3.277832\n",
      "Standard deviation: 0.5887090956712225\n",
      "Variance: 0.3465783993260287\n",
      "Skewness: 0.09290723135499794\n",
      "Kurtosis: -0.3517978626365661\n",
      "\n",
      "\n",
      "Condition LHL:\n",
      "Mean: 3.256194529411765\n",
      "Median: 3.1763915000000003\n",
      "Standard deviation: 0.5945710291505488\n",
      "Variance: 0.35351470870514273\n",
      "Skewness: 0.4852300411274535\n",
      "Kurtosis: 0.42678110473330877\n",
      "\n",
      "\n",
      "Condition SNL:\n",
      "Mean: 3.4010022135922324\n",
      "Median: 3.314453\n",
      "Standard deviation: 0.7595869144605499\n",
      "Variance: 0.5769722806196989\n",
      "Skewness: 0.0907436245357117\n",
      "Kurtosis: 0.38225572747087844\n",
      "\n",
      "\n",
      "Condition SHL:\n",
      "Mean: 3.30924559223301\n",
      "Median: 3.311279\n",
      "Standard deviation: 0.6051324068252876\n",
      "Variance: 0.3661852297901653\n",
      "Skewness: -0.1964469504356645\n",
      "Kurtosis: -0.05719684098972211\n",
      "\n",
      "\n"
     ]
    }
   ],
   "source": [
    "# Compute major statistics for each distribution\n",
    "for condition in conditions:\n",
    "    print(f\"Condition {condition}:\")\n",
    "    print(f\"Mean: {produced_durations_dict_2[condition].mean()}\")\n",
    "    print(f\"Median: {produced_durations_dict_2[condition].median()}\")\n",
    "    print(f\"Standard deviation: {produced_durations_dict_2[condition].std()}\")\n",
    "    print(f\"Variance: {produced_durations_dict_2[condition].var()}\")\n",
    "    print(f\"Skewness: {produced_durations_dict_2[condition].skew()}\")\n",
    "    print(f\"Kurtosis: {produced_durations_dict_2[condition].kurtosis()}\")\n",
    "    print(\"\\n\")"
   ]
  },
  {
   "cell_type": "code",
   "execution_count": 10,
   "metadata": {},
   "outputs": [
    {
     "name": "stderr",
     "output_type": "stream",
     "text": [
      "No artists with labels found to put in legend.  Note that artists whose label start with an underscore are ignored when legend() is called with no argument.\n"
     ]
    }
   ],
   "source": [
    "# Plot the produced duration for all conditions\n",
    "fig, ax = plt.subplots(figsize=(8, 6))\n",
    "for i, condition in enumerate(conditions):\n",
    "    ax.boxplot(produced_durations_dict_2[condition], positions=[i], patch_artist=True)\n",
    "\n",
    "ax.set_xticklabels(conditions)\n",
    "ax.set_title(\"Produced Durations Box Plots\")\n",
    "plt.legend()\n",
    "plt.show()"
   ]
  },
  {
   "cell_type": "markdown",
   "metadata": {},
   "source": [
    "Compare medians"
   ]
  },
  {
   "cell_type": "code",
   "execution_count": 11,
   "metadata": {},
   "outputs": [
    {
     "name": "stdout",
     "output_type": "stream",
     "text": [
      "Diff for LNS  : 0.03763699999999992\n",
      "Diff for LHS  : 0.032473500000000044\n",
      "Diff for SNS  : 0.030167999999999973\n",
      "Diff for SHS  : 0.03261700000000012\n",
      "Diff for LNL  : 0.03616799999999998\n",
      "Diff for LHL  : 0.03560849999999993\n",
      "Diff for SNL  : 0.03554699999999977\n",
      "Diff for SHL  : 0.05272100000000002\n"
     ]
    }
   ],
   "source": [
    "for condition in conditions:\n",
    "    print(\"Diff for \" + condition + \"  : \" + str(produced_durations_dict[condition].median() - produced_durations_dict_2[condition].median()))"
   ]
  },
  {
   "cell_type": "markdown",
   "metadata": {},
   "source": [
    "## Discriminate and analyse between short and long durations"
   ]
  },
  {
   "cell_type": "markdown",
   "metadata": {},
   "source": [
    "The threshold is the number of standard deviations t"
   ]
  },
  {
   "cell_type": "markdown",
   "metadata": {},
   "source": [
    "### Utils"
   ]
  },
  {
   "cell_type": "code",
   "execution_count": null,
   "metadata": {},
   "outputs": [],
   "source": [
    "from mne.time_frequency import (\n",
    "    tfr_array_morlet,\n",
    ")\n",
    "\n",
    "def get_full_spectrogram_from_epochs_array(epochs_array, low_freq, high_freq):\n",
    "    frequencies = np.arange(low_freq, high_freq)  \n",
    "    cycles_per_freq = 6\n",
    "    \n",
    "    power = tfr_array_morlet(epochs_array, sfreq=config.resample_sfreq, freqs=frequencies, n_cycles=cycles_per_freq, output='power', n_jobs=-1)\n",
    "    \n",
    "    return power"
   ]
  },
  {
   "cell_type": "markdown",
   "metadata": {},
   "source": [
    "### Analysis"
   ]
  },
  {
   "cell_type": "markdown",
   "metadata": {},
   "source": []
  }
 ],
 "metadata": {
  "kernelspec": {
   "display_name": "base",
   "language": "python",
   "name": "python3"
  },
  "language_info": {
   "codemirror_mode": {
    "name": "ipython",
    "version": 3
   },
   "file_extension": ".py",
   "mimetype": "text/x-python",
   "name": "python",
   "nbconvert_exporter": "python",
   "pygments_lexer": "ipython3",
   "version": "3.9.7"
  }
 },
 "nbformat": 4,
 "nbformat_minor": 2
}
